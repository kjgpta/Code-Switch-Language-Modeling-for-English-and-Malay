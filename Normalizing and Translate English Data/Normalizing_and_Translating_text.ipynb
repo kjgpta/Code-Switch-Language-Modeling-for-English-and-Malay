{
  "nbformat": 4,
  "nbformat_minor": 0,
  "metadata": {
    "colab": {
      "provenance": []
    },
    "kernelspec": {
      "name": "python3",
      "display_name": "Python 3"
    },
    "language_info": {
      "name": "python"
    }
  },
  "cells": [
    {
      "cell_type": "markdown",
      "source": [
        "# Normalizing English Data"
      ],
      "metadata": {
        "id": "R-YaZMOKXS8H"
      }
    },
    {
      "cell_type": "code",
      "execution_count": null,
      "metadata": {
        "id": "NeDLu_fMW8Cr"
      },
      "outputs": [],
      "source": [
        "!pip -q install text2digits\n",
        "!pip -q install contractions"
      ]
    },
    {
      "cell_type": "code",
      "source": [
        "import contractions\n",
        "from text2digits import text2digits\n",
        "\n",
        "t2d = text2digits.Text2Digits()"
      ],
      "metadata": {
        "id": "tfbjuv2cW_8j"
      },
      "execution_count": null,
      "outputs": []
    },
    {
      "cell_type": "code",
      "source": [
        "english_text = []\n",
        "with open('English.txt') as f:\n",
        "    english_text = f.readlines()\n",
        "f.close()"
      ],
      "metadata": {
        "id": "_N8C2ugnXNvu"
      },
      "execution_count": null,
      "outputs": []
    },
    {
      "cell_type": "code",
      "source": [
        "def text_normal(string):\n",
        "    for k in list(\"!#$%&()*+-.:,;<=>@[]^_`{|}~\"):\n",
        "        string = string.replace(k,\"\")\n",
        "    line = \"\"\n",
        "    for j in string.split():\n",
        "        line += j + \" \"\n",
        "    eng = contractions.fix(line)\n",
        "    flag = False\n",
        "    temp = \"\"\n",
        "    line = \"\"\n",
        "    for i in eng.split():\n",
        "        if len(i) == 1:\n",
        "            flag = True\n",
        "            temp += i.upper()\n",
        "        else:\n",
        "            if flag == True:\n",
        "                if temp == \"I\" or temp == \"A\":\n",
        "                    temp = temp.lower()\n",
        "                line += temp + \" \"\n",
        "                temp = \"\"\n",
        "            if i == \"first\":\n",
        "                temp = \"1st\"\n",
        "            elif i == \"second\":\n",
        "                temp = \"2nd\"\n",
        "            elif i == \"third\":\n",
        "                temp = \"3rd\"\n",
        "            elif i == \"fourth\":\n",
        "                temp = \"4th\"\n",
        "            elif i == \"fifth\":\n",
        "                temp = \"5th\"\n",
        "            elif i == \"sixth\":\n",
        "                temp = \"6th\"\n",
        "            elif i == \"seventh\":\n",
        "                temp = \"7th\"\n",
        "            elif i == \"eighth\":\n",
        "                temp = \"8th\"\n",
        "            elif i == \"ninth\":\n",
        "                temp = \"9th\"\n",
        "            elif i == \"oh\":\n",
        "                temp = \"ohh\"\n",
        "            else: \n",
        "                temp = i\n",
        "            flag = False\n",
        "        if flag == False:\n",
        "            line += temp + \" \"\n",
        "            temp = \"\"\n",
        "    if flag == True:\n",
        "        line += temp\n",
        "\n",
        "    return t2d.convert(line)"
      ],
      "metadata": {
        "id": "WJ4zB4PXYmBp"
      },
      "execution_count": null,
      "outputs": []
    },
    {
      "cell_type": "code",
      "source": [
        "english_data = \"\"\n",
        "for i in range(len(english_text)):\n",
        "    english_data += text_normal(english_text[i]) + \"\\n\"\n",
        "\n",
        "f1 = open(\"English_Normalized.txt\", \"w\")\n",
        "f1.write(english_data)\n",
        "f1.close()"
      ],
      "metadata": {
        "id": "pe35cMlHYoIl"
      },
      "execution_count": null,
      "outputs": []
    },
    {
      "cell_type": "markdown",
      "source": [
        "# Translating English Data "
      ],
      "metadata": {
        "id": "q3P7pfYEY0Qd"
      }
    },
    {
      "cell_type": "code",
      "source": [
        "!pip -q install deep-translator\n",
        "from deep_translator import GoogleTranslator"
      ],
      "metadata": {
        "id": "Adkn4zptZHaY"
      },
      "execution_count": null,
      "outputs": []
    },
    {
      "cell_type": "code",
      "source": [
        "english_text = []\n",
        "with open('English_Normalized.txt') as f:\n",
        "    english_text = f.readlines()\n",
        "f.close()"
      ],
      "metadata": {
        "id": "b2SdPhVLY4u8"
      },
      "execution_count": null,
      "outputs": []
    },
    {
      "cell_type": "code",
      "source": [
        "malay_text = \"\"\n",
        "for i in range(len(english_text)):\n",
        "    malay_text += GoogleTranslator(source='en', target='ms').translate(english_text[i]) + \"\\n\"\n",
        "\n",
        "f1 = open(\"Malay_Normalized.txt\", \"w\")\n",
        "f1.write(malay_text)\n",
        "f1.close()"
      ],
      "metadata": {
        "id": "19Grj1XCZCgS"
      },
      "execution_count": null,
      "outputs": []
    }
  ]
}