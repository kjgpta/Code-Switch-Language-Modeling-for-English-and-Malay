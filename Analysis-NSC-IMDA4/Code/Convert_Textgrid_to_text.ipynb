{
  "cells": [
    {
      "cell_type": "markdown",
      "metadata": {
        "id": "QgAoD_A56KV9"
      },
      "source": [
        "# Converts the textgrid files to text files"
      ]
    },
    {
      "cell_type": "code",
      "execution_count": null,
      "metadata": {},
      "outputs": [],
      "source": [
        "import os"
      ]
    },
    {
      "cell_type": "code",
      "execution_count": null,
      "metadata": {
        "id": "C1oc7DYthVUR"
      },
      "outputs": [],
      "source": [
        "def convert_to_text(directory_pick, directory_save):\n",
        "    for fil in os.listdir(directory_pick):\n",
        "        filename = directory_pick + '/'+ str(fil)\n",
        "        fil = fil[:-9]\n",
        "        with open(filename,'r') as f:\n",
        "            data = f.readlines()\n",
        "        f.close()\n",
        "        txttext = ''\n",
        "        data = data[14:]\n",
        "        for line in data:  \n",
        "            linepair = line.split('=')\n",
        "            if len(linepair) == 2:\n",
        "                if 'text' in linepair[0].strip():\n",
        "                    txt = linepair[1][2:-3].split()\n",
        "                    res = []\n",
        "                    for i in txt:\n",
        "                        if i.startswith(\"(pp\") or i == \"<S>\" or i == \"<Z>\" or i == \"<NEN>\" or i == \"<UNK>\" or '~' in i or \"*\" in i:\n",
        "                            continue\n",
        "                        elif i == \"<c>\":\n",
        "                            res.append(\",\")\n",
        "                        elif i == \"<s>\":\n",
        "                            res.append(\".\")\n",
        "                        elif \"_\" in i:\n",
        "                            i.replace(\"_\",\"\")\n",
        "                        elif i.startswith(\"<H\") or i.startswith(\"<P\"):\n",
        "                            res.append(i[4:])\n",
        "                        elif i.endswith(\"1>\") or i.endswith(\"2>\"):\n",
        "                            res.append(i[:-5])\n",
        "                        elif i.startswith(\"<EX\"):\n",
        "                            res.append(i[5:])\n",
        "                        elif i.endswith(\"</EX1>\") or i.endswith(\"</EX2>\"):\n",
        "                            res.append(i[:-6])\n",
        "                        elif i.startswith(\"<malay>\"):\n",
        "                            res.append(i)\n",
        "                        elif not i.startswith(\"<\") and  not i.startswith(\"-\") :\n",
        "                            res.append(i)\n",
        "                    if len(res) > 0:\n",
        "                        txttext += \" \".join(res) + '\\n' \n",
        "        filetosave = directory_save +\"/\" +  str(fil)+\".txt\"\n",
        "        f2 = open(filetosave,'w+')\n",
        "        f2.write(txttext)\n",
        "        f2.close()"
      ]
    },
    {
      "cell_type": "code",
      "execution_count": null,
      "metadata": {
        "id": "GF2Kk5m2heoh"
      },
      "outputs": [],
      "source": [
        "# \"Textgrid\" => Directory having Textgrid files which are to converted\n",
        "# \"Text\" => Directory to which the text files should be saved\n",
        "convert_to_text(\"Textgrid\", \"Text\")\n",
        "print(\"All files successfully converted\")"
      ]
    }
  ],
  "metadata": {
    "colab": {
      "provenance": []
    },
    "kernelspec": {
      "display_name": "Python 3",
      "name": "python3"
    },
    "language_info": {
      "name": "python"
    }
  },
  "nbformat": 4,
  "nbformat_minor": 0
}
