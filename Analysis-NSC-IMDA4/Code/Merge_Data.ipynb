{
  "cells": [
    {
      "cell_type": "markdown",
      "metadata": {},
      "source": [
        "# Merges the text files from directory for analysis"
      ]
    },
    {
      "cell_type": "code",
      "execution_count": null,
      "metadata": {
        "id": "jf1ZER0pB-3D"
      },
      "outputs": [],
      "source": [
        "import os\n",
        "def merge_data(directory_pick):\n",
        "    text = \"\"\n",
        "    for fil in os.listdir(directory_pick):\n",
        "        filename = directory_pick + '/'+ str(fil)\n",
        "        with open(filename,'r') as f1:\n",
        "            text += f.read() + \"\\n\"\n",
        "        f1.close()\n",
        "    f2 = open(\"complete.txt\",'w+')\n",
        "    f2.write(text)\n",
        "    f2.close()  \n",
        "\n",
        "merge_data(\"Text\")\n",
        "print(\"All files successfully Merged\")"
      ]
    }
  ],
  "metadata": {
    "colab": {
      "provenance": []
    },
    "kernelspec": {
      "display_name": "Python 3",
      "name": "python3"
    },
    "language_info": {
      "name": "python"
    }
  },
  "nbformat": 4,
  "nbformat_minor": 0
}
