{
  "nbformat": 4,
  "nbformat_minor": 0,
  "metadata": {
    "colab": {
      "provenance": []
    },
    "kernelspec": {
      "name": "python3",
      "display_name": "Python 3"
    },
    "language_info": {
      "name": "python"
    },
    "accelerator": "GPU",
    "gpuClass": "standard"
  },
  "cells": [
    {
      "cell_type": "markdown",
      "source": [
        "# Cleans the data and saves it into different categories"
      ],
      "metadata": {
        "id": "HRMbYDOXDGow"
      }
    },
    {
      "cell_type": "code",
      "source": [
        "with open(\"complete.txt\") as f:\n",
        "    text = f.readlines()"
      ],
      "metadata": {
        "id": "xQKcg3qqoTxu"
      },
      "execution_count": null,
      "outputs": []
    },
    {
      "cell_type": "code",
      "source": [
        "def detector(line):\n",
        "    if line.startswith(\"<malay>\") and line.endswith(\"</malay>\"):\n",
        "        if line.count(\"<malay>\") == 1:\n",
        "            return \"MS\"\n",
        "        else:\n",
        "            return \"CS\"\n",
        "    else:\n",
        "        if line.count(\"<malay>\") >= 1:\n",
        "            return \"CS\"\n",
        "        else:\n",
        "            return \"EN\""
      ],
      "metadata": {
        "id": "4lpb-k-Dv2hm"
      },
      "execution_count": null,
      "outputs": []
    },
    {
      "cell_type": "code",
      "source": [
        "def word_analyzer(word, tag):\n",
        "    ar = \"\"\n",
        "    tag2= tag\n",
        "    if tag == \"<malay>\":\n",
        "        tag2 = \"</malay>\"\n",
        "    if tag == \"(\":\n",
        "        tag2 = \")\"\n",
        "    if tag == \"[\":\n",
        "        tag2 = \"]\"\n",
        "    if tag == \"<\":\n",
        "        tag2 = \">\"\n",
        "    if tag == \"{\":\n",
        "        tag2 = \"}\"\n",
        "    n = len(tag)\n",
        "    k = len(tag2)\n",
        "    if word.startswith(tag) and word.endswith(tag2):\n",
        "            ar = word[n:-k]\n",
        "    elif word.startswith(tag):\n",
        "            ar = word[n:]\n",
        "    elif word.endswith(tag2):\n",
        "            ar = word[:-k]\n",
        "    return ar"
      ],
      "metadata": {
        "id": "Pq5RINNOoiZk"
      },
      "execution_count": null,
      "outputs": []
    },
    {
      "cell_type": "code",
      "source": [
        "def data_cleanser(string):\n",
        "    words = string.split()\n",
        "    ar = []\n",
        "    sent = \"\"\n",
        "    for word in words:\n",
        "        if \"_\" in word:\n",
        "            wrd = \"\"\n",
        "            for j in range(len(word)):\n",
        "                if word[j] != \"_\":\n",
        "                    wrd += word[j]\n",
        "            word = wrd\n",
        "        elif word.startswith(\"<malay>\") or word.endswith(\"</malay>\"):\n",
        "            word = word_analyzer(word, \"<malay>\")\n",
        "        elif word.startswith(\"(\") or word.endswith(\")\"):\n",
        "            word = word_analyzer(word, \"(\")\n",
        "        elif word.startswith(\"[\") or word.endswith(\"]\"):\n",
        "            word = word_analyzer(word, \"[\")\n",
        "        elif word.startswith(\"<\") or word.endswith(\">\"):\n",
        "            word = word_analyzer(word, \"<\")\n",
        "        elif word.startswith(\"{\") or word.endswith(\"}\"):\n",
        "            word = word_analyzer(word, \"{\")\n",
        "        elif word.startswith(\"!\") or word.endswith(\"!\"):\n",
        "            word = word_analyzer(word, \"!\")\n",
        "        elif word.startswith(\"#\") or word.endswith(\"#\"):\n",
        "            word = word_analyzer(word, \"#\")\n",
        "        elif word.endswith(\"~\"):\n",
        "            word = word[:-1]\n",
        "        ar.append(word)\n",
        "    return \" \".join(ar)     "
      ],
      "metadata": {
        "id": "z6iE2ajWozuW"
      },
      "execution_count": null,
      "outputs": []
    },
    {
      "cell_type": "code",
      "source": [
        "cs = \"\"\n",
        "mal = \"\"\n",
        "eng = \"\"\n",
        "for i in range(len(text)):\n",
        "    string = text[i][:-1]\n",
        "    lang = detector(string)\n",
        "    if lang == \"CS\":\n",
        "        cs += data_cleanser(string) + \"\\n\"\n",
        "    if lang == \"MS\":\n",
        "        mal += data_cleanser(string) + \"\\n\"\n",
        "    if lang == \"EN\":\n",
        "        eng += data_cleanser(string) + \"\\n\""
      ],
      "metadata": {
        "id": "ICkpFktPpvB3"
      },
      "execution_count": null,
      "outputs": []
    },
    {
      "cell_type": "code",
      "source": [
        "filename = \"Only_English.txt\"\n",
        "f1 = open(filename,'w+')\n",
        "f1.write(eng)\n",
        "f1.close()"
      ],
      "metadata": {
        "id": "gbdUaMCXrVI5"
      },
      "execution_count": null,
      "outputs": []
    },
    {
      "cell_type": "code",
      "source": [
        "filename = \"Only_CS.txt\"\n",
        "f1 = open(filename,'w+')\n",
        "f1.write(cs)\n",
        "f1.close()"
      ],
      "metadata": {
        "id": "2C2Q7dHgqICL"
      },
      "execution_count": null,
      "outputs": []
    },
    {
      "cell_type": "code",
      "source": [
        "filename = \"Only_Malay.txt\"\n",
        "f1 = open(filename,'w+')\n",
        "f1.write(mal)\n",
        "f1.close()"
      ],
      "metadata": {
        "id": "dSTqu0l9qJXT"
      },
      "execution_count": null,
      "outputs": []
    },
    {
      "cell_type": "code",
      "source": [],
      "metadata": {
        "id": "pCQGJrBFqhL5"
      },
      "execution_count": null,
      "outputs": []
    }
  ]
}