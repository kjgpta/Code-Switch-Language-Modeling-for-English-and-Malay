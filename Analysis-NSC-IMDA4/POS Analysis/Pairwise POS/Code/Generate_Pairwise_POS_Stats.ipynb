{
  "cells": [
    {
      "cell_type": "code",
      "execution_count": null,
      "metadata": {
        "id": "-owsRqJ9p8Tp"
      },
      "outputs": [],
      "source": [
        "def mal_eng_pos(mal,eng,mal_eng):\n",
        "    tag = mal + \" || \" + eng\n",
        "    if tag in mal_eng.keys():\n",
        "        mal_eng[tag] += 1\n",
        "    else:\n",
        "        mal_eng[tag] = 1\n",
        "    \n",
        "    return mal_eng\n",
        "\n",
        "def eng_mal_pos(mal,eng,eng_mal):\n",
        "    tag = eng + \" || \" + mal\n",
        "    if tag in eng_mal.keys():\n",
        "        eng_mal[tag] += 1\n",
        "    else:\n",
        "        eng_mal[tag] = 1\n",
        "    \n",
        "    return eng_mal\n"
      ]
    },
    {
      "cell_type": "code",
      "execution_count": null,
      "metadata": {
        "id": "ZfPnXqSat2M6"
      },
      "outputs": [],
      "source": [
        "def pos_tag_diff(sentence, eng_mal, mal_eng):\n",
        "    data = sentence.split()\n",
        "    index = 0\n",
        "    for index in range(len(data)-1):\n",
        "        if not \"</\" in data[index]:\n",
        "            continue\n",
        "        mal_word = \"\"\n",
        "        eng_word = \"\"\n",
        "        pos_mal = \"\"\n",
        "        pos_eng = \"\"\n",
        "        if data[index].startswith(\"<malay>\") and data[index].endswith(\"</malay>\"):\n",
        "            if not data[index+1].startswith(\"<english>\"):\n",
        "                continue\n",
        "            mal_word = data[index][7:-8]\n",
        "            if mal_word == \"\":\n",
        "                index += 1\n",
        "                mal_word = data[index]\n",
        "            pos_mal = mal_word\n",
        "            if data[index+1].startswith(\"<english>\") and data[index+1].endswith(\"</english>\"):\n",
        "                eng_word = data[index+1][9:-10]\n",
        "            else:\n",
        "                eng_word = data[index+1][9:]\n",
        "            if eng_word == \"\":\n",
        "              index += 1\n",
        "              eng_word = data[index]\n",
        "            pos_eng = eng_word\n",
        "            mal_eng = mal_eng_pos(pos_mal,pos_eng,mal_eng)\n",
        "\n",
        "        elif data[index].endswith(\"</malay>\"):\n",
        "            if not data[index+1].startswith(\"<english>\"):\n",
        "                continue\n",
        "            mal_word = data[index][:-8]\n",
        "            if mal_word == \"\":\n",
        "                index += 1\n",
        "                mal_word = data[index]\n",
        "            pos_mal = mal_word\n",
        "            if data[index+1].startswith(\"<english>\") and data[index+1].endswith(\"</english>\"):\n",
        "                eng_word = data[index+1][9:-10]\n",
        "            else:\n",
        "                eng_word = data[index+1][9:]\n",
        "            if eng_word == \"\":\n",
        "              index += 1\n",
        "              eng_word = data[index]\n",
        "            pos_eng = eng_word\n",
        "            mal_eng = mal_eng_pos(pos_mal,pos_eng,mal_eng)\n",
        "\n",
        "        elif data[index].startswith(\"<english>\") and data[index].endswith(\"</english>\"):\n",
        "            if not data[index+1].startswith(\"<malay>\"):\n",
        "                continue\n",
        "            eng_word = data[index][9:-10]\n",
        "            if eng_word == \"\":\n",
        "              index += 1\n",
        "              eng_word = data[index]\n",
        "            pos_eng = eng_word\n",
        "            if data[index+1].startswith(\"<malay>\") and data[index+1].endswith(\"</malay>\"):\n",
        "                mal_word = data[index+1][7:-8]\n",
        "            else:\n",
        "                mal_word = data[index+1][7:]\n",
        "            if mal_word == \"\":\n",
        "                index += 1\n",
        "                mal_word = data[index]\n",
        "            pos_mal = mal_word\n",
        "            eng_mal = eng_mal_pos(pos_mal,pos_eng,eng_mal)\n",
        "\n",
        "        elif data[index].endswith(\"</english>\"):\n",
        "            if not data[index+1].startswith(\"<malay>\"):\n",
        "                continue\n",
        "            eng_word = data[index][:-10]\n",
        "            if eng_word == \"\":\n",
        "              index += 1\n",
        "              eng_word = data[index]\n",
        "            pos_eng = eng_word\n",
        "            if data[index+1].startswith(\"<malay>\") and data[index+1].endswith(\"</malay>\"):\n",
        "                mal_word = data[index+1][7:-8]\n",
        "            else:\n",
        "                mal_word = data[index+1][7:]\n",
        "            if mal_word == \"\":\n",
        "                index += 1\n",
        "                mal_word = data[index]\n",
        "            pos_mal = mal_word\n",
        "            eng_mal = eng_mal_pos(pos_mal,pos_eng,eng_mal)\n",
        "    return eng_mal, mal_eng"
      ]
    },
    {
      "cell_type": "code",
      "execution_count": null,
      "metadata": {
        "id": "EUWAJmxqNm3I"
      },
      "outputs": [],
      "source": [
        "import pandas as pd\n",
        "\n",
        "filenametrain = \"POS_CS_Lang_Data.txt\"\n",
        "with open(filenametrain) as f:\n",
        "    data_train = f.readlines()"
      ]
    },
    {
      "cell_type": "code",
      "execution_count": null,
      "metadata": {
        "id": "9LJI7RmlEFf6"
      },
      "outputs": [],
      "source": [
        "eng_mal = dict()\n",
        "mal_eng = dict()\n",
        "for sentence in data_train:\n",
        "    if \"<english>\" in sentence and \"<malay>\" in sentence:\n",
        "        eng_mal, mal_eng = pos_tag_diff(sentence, eng_mal, mal_eng)"
      ]
    },
    {
      "cell_type": "code",
      "execution_count": null,
      "metadata": {
        "id": "LRy48EO7u9KY"
      },
      "outputs": [],
      "source": [
        "def eng_tag(left,right,eng):\n",
        "    resulting_model_eng = [left, right]\n",
        "    pos1 = resulting_model_eng[0]\n",
        "    pos2 = resulting_model_eng[1]\n",
        "    tag = pos1 + \" || \" + pos2\n",
        "    if tag in eng.keys():\n",
        "        eng[tag] += 1\n",
        "    else:\n",
        "        eng[tag] = 1\n",
        "    return eng"
      ]
    },
    {
      "cell_type": "code",
      "execution_count": null,
      "metadata": {
        "id": "BrI7spbevArJ"
      },
      "outputs": [],
      "source": [
        "def mal_tag(left,right,mal):\n",
        "    resulting_model_mal = [left, right]\n",
        "    pos1 = resulting_model_mal[0]\n",
        "    try: \n",
        "      pos2 = resulting_model_mal[1]\n",
        "    except:\n",
        "      pos2 = pos1\n",
        "    tag = pos1 + \" || \" + pos2\n",
        "    if tag in mal.keys():\n",
        "        mal[tag] += 1\n",
        "    else:\n",
        "        mal[tag] = 1\n",
        "    return mal"
      ]
    },
    {
      "cell_type": "code",
      "execution_count": null,
      "metadata": {
        "id": "Nurco_RfvCUp"
      },
      "outputs": [],
      "source": [
        "def pos_tag_same(sentence, eng, mal):\n",
        "    data = sentence.split()\n",
        "    index = 0\n",
        "    eng_flag = False\n",
        "    mal_flag = False\n",
        "    for index in range(len(data)-1):\n",
        "        left_word = data[index]\n",
        "        right_word = \"\"\n",
        "        if (eng_flag or left_word.startswith(\"<english>\")) and not left_word.endswith(\"</english>\"):\n",
        "            if left_word.startswith(\"<english>\"):\n",
        "                left_word = left_word[9:]\n",
        "            if left_word == \"\":\n",
        "                index += 1\n",
        "                left_word = data[index]\n",
        "            if left_word.endswith(\"</english>\"):\n",
        "                continue\n",
        "            eng_flag = True\n",
        "            right_word = data[index+1]\n",
        "            if right_word == \"\":\n",
        "                index += 1\n",
        "                right_word = data[index]\n",
        "            if right_word.endswith(\"</english>\"):\n",
        "                right_word = right_word[:-10]\n",
        "                eng_flag = False\n",
        "            eng = eng_tag(left_word,right_word,eng)\n",
        "        if (mal_flag or left_word.startswith(\"<malay>\")) and not left_word.endswith(\"</malay>\"):\n",
        "            if left_word.startswith(\"<malay>\"):\n",
        "                left_word = left_word[7:]\n",
        "            if left_word == \"\":\n",
        "                index += 1\n",
        "                left_word = data[index]\n",
        "            if left_word.endswith(\"</malay>\"):\n",
        "                continue\n",
        "            mal_flag = True\n",
        "            right_word = data[index+1]\n",
        "            if right_word == \"\":\n",
        "                index += 1\n",
        "                right_word = data[index]\n",
        "            if right_word.endswith(\"</malay>\"):\n",
        "                right_word = right_word[:-8]\n",
        "                mal_flag = False\n",
        "            mal = mal_tag(left_word,right_word,mal)\n",
        "    return eng,mal"
      ]
    },
    {
      "cell_type": "code",
      "execution_count": null,
      "metadata": {
        "id": "2WhIqrc-vJ_V"
      },
      "outputs": [],
      "source": [
        "eng_eng = dict()\n",
        "mal_mal = dict()\n",
        "for sentence in data_train:\n",
        "    if \"<english>\" in sentence or \"<malay>\" in sentence:\n",
        "        eng_eng, mal_mal = pos_tag_same(sentence, eng_eng, mal_mal)"
      ]
    },
    {
      "cell_type": "code",
      "execution_count": null,
      "metadata": {
        "id": "qXBwRPFdvXsx"
      },
      "outputs": [],
      "source": [
        "column = [\"POS || POS\", \"English to Malay\", \"English to English\", \"English to Malay Conversion Ratio\", \"Malay to English\", \"Malay to Malay\", \"Malay to English Conversion Ratio\"]\n",
        "res = pd.DataFrame(columns = column)"
      ]
    },
    {
      "cell_type": "code",
      "execution_count": null,
      "metadata": {
        "id": "K1YjXby8x9Y7"
      },
      "outputs": [],
      "source": [
        "pos_tag_list = [\"NOUN\", \"PRON\", \"VERB\", \"ADVB\", \"ADJC\", \"ADPN\", \"CONJ\", \"DETR\", \"PCLE\", \"NMBR\", \"SYMB\", \"OTHR\"]\n",
        "for pos1 in pos_tag_list:\n",
        "    for pos2 in pos_tag_list:\n",
        "        res.loc[len(res.index)] = [pos1 + \" || \" + pos2, 0, 0, 0, 0, 0, 0]\n",
        "\n",
        "for i in range(len(res.index)):\n",
        "    if res.at[i,\"POS || POS\"] in mal_eng:\n",
        "        res.at[i,\"Malay to English\"] = mal_eng[res.at[i,\"POS || POS\"]]\n",
        "    else:\n",
        "        res.at[i,\"Malay to English\"] = 0\n",
        "    \n",
        "    if res.at[i,\"POS || POS\"] in eng_mal:\n",
        "        res.at[i,\"English to Malay\"] = eng_mal[res.at[i,\"POS || POS\"]]\n",
        "    else:\n",
        "        res.at[i,\"English to Malay\"] = 0\n",
        "    \n",
        "    if res.at[i,\"POS || POS\"] in eng_eng:\n",
        "        res.at[i,\"English to English\"] = eng_eng[res.at[i,\"POS || POS\"]]\n",
        "    else:\n",
        "        res.at[i,\"English to English\"] = 0\n",
        "    \n",
        "    if res.at[i,\"POS || POS\"] in mal_mal:\n",
        "        res.at[i,\"Malay to Malay\"] = mal_mal[res.at[i,\"POS || POS\"]] \n",
        "    else:\n",
        "        res.at[i,\"Malay to Malay\"] = 0"
      ]
    },
    {
      "cell_type": "code",
      "execution_count": null,
      "metadata": {
        "id": "xllusMTx0NZH"
      },
      "outputs": [],
      "source": [
        "for i in range(len(res.index)):\n",
        "    if res.at[i,\"English to English\"] == 0:\n",
        "        res.at[i,\"English to Malay Conversion Ratio\"] = 0\n",
        "    else:\n",
        "        res.at[i,\"English to Malay Conversion Ratio\"] = round(res.at[i,\"English to Malay\"]*100/(res.at[i,\"English to Malay\"] + res.at[i,\"English to English\"]))\n",
        "    \n",
        "    if res.at[i,\"Malay to Malay\"] == 0:\n",
        "        res.at[i,\"Malay to English Conversion Ratio\"] = 0\n",
        "    else:\n",
        "        res.at[i,\"Malay to English Conversion Ratio\"] = round(res.at[i,\"Malay to English\"]*100/(res.at[i,\"Malay to English\"] + res.at[i,\"Malay to Malay\"]))\n"
      ]
    },
    {
      "cell_type": "code",
      "execution_count": null,
      "metadata": {
        "id": "VtDzP9td0cji"
      },
      "outputs": [],
      "source": [
        "res.to_excel(\"Left_Right_POS_Results.xlsx\", index = False)"
      ]
    },
    {
      "cell_type": "code",
      "execution_count": null,
      "metadata": {
        "id": "x2PNSbvb2ahk"
      },
      "outputs": [],
      "source": []
    }
  ],
  "metadata": {
    "accelerator": "GPU",
    "colab": {
      "collapsed_sections": [],
      "provenance": []
    },
    "gpuClass": "standard",
    "kernelspec": {
      "display_name": "Python 3.8.5 ('base')",
      "language": "python",
      "name": "python3"
    },
    "language_info": {
      "name": "python",
      "version": "3.8.5"
    },
    "vscode": {
      "interpreter": {
        "hash": "75e1efb84c03986af0e8f42485fed0cce10a00d55878541b86dc1dc64e57af84"
      }
    }
  },
  "nbformat": 4,
  "nbformat_minor": 0
}
