{
  "nbformat": 4,
  "nbformat_minor": 0,
  "metadata": {
    "colab": {
      "provenance": [],
      "collapsed_sections": []
    },
    "kernelspec": {
      "name": "python3",
      "display_name": "Python 3"
    },
    "language_info": {
      "name": "python"
    }
  },
  "cells": [
    {
      "cell_type": "markdown",
      "source": [
        "# Installing and Importing required libraries"
      ],
      "metadata": {
        "id": "oFoF989C5Whl"
      }
    },
    {
      "cell_type": "code",
      "execution_count": null,
      "metadata": {
        "id": "wUWCCjLiRDae"
      },
      "outputs": [],
      "source": [
        "!pip -q install h5py\n",
        "!pip -q install typing-extensions\n",
        "!pip -q install wheel\n",
        "!pip -q install imgaug==0.2.5\n",
        "!pip -q install malaya[gpu]==4.9.0\n",
        "!pip -q install tensorflow==2.9.0\n",
        "!pip -q install tensorflow_addons\n",
        "!pip -q install deep-translator"
      ]
    },
    {
      "cell_type": "code",
      "source": [
        "import malaya\n",
        "from random import *\n",
        "import nltk\n",
        "import tensorflow as tf\n",
        "import pandas as pd\n",
        "from nltk import word_tokenize\n",
        "from deep_translator import GoogleTranslator\n",
        "nltk.download('punkt')\n",
        "nltk.download('averaged_perceptron_tagger')\n",
        "nltk.download('tagsets')"
      ],
      "metadata": {
        "id": "mxCU1uLwUkfM"
      },
      "execution_count": null,
      "outputs": []
    },
    {
      "cell_type": "code",
      "source": [
        "model = malaya.pos.transformer(model = 'bert')\n",
        "alignment_en_ms = malaya.alignment.en_ms.huggingface()\n",
        "alignment_ms_en = malaya.alignment.ms_en.huggingface()"
      ],
      "metadata": {
        "id": "WBNnC-1YUnox"
      },
      "execution_count": null,
      "outputs": []
    },
    {
      "cell_type": "markdown",
      "source": [
        "## Importing the required data from real Codeswitch data"
      ],
      "metadata": {
        "id": "4R0bquhb7fPH"
      }
    },
    {
      "cell_type": "code",
      "source": [
        "df1 = pd.read_excel('Left_Right_POS_English.xlsx')\n",
        "df2 = pd.read_excel('Left_Right_POS_Malay.xlsx')"
      ],
      "metadata": {
        "id": "IEFr4tbKVdvV"
      },
      "execution_count": null,
      "outputs": []
    },
    {
      "cell_type": "code",
      "source": [
        "msdf = pd.read_csv(\"Malay_Substitutes.csv\")\n",
        "msdf.columns = [\"Index\", \"Standard words\", \"Accepted words\"]\n",
        "standard_words = list(msdf[\"Standard words\"])\n",
        "accepted_words = list(msdf[\"Accepted words\"])"
      ],
      "metadata": {
        "id": "No6VETWV3fJo"
      },
      "execution_count": null,
      "outputs": []
    },
    {
      "cell_type": "code",
      "source": [
        "eng_mal = dict()\n",
        "for i in range(int(df1.index[-1])+1):\n",
        "    eng_mal[df1.at[i,\"POS || POS\"]] =  df1.at[i,\"English to Malay Conversion Ratio\"]\n",
        "\n",
        "mal_eng = dict()\n",
        "for i in range(int(df2.index[-1])+1):\n",
        "    mal_eng[df2.at[i,\"POS || POS\"]] =  df2.at[i,\"Malay to English Conversion Ratio\"]"
      ],
      "metadata": {
        "id": "7kNLUdnQVfc-"
      },
      "execution_count": null,
      "outputs": []
    },
    {
      "cell_type": "markdown",
      "source": [
        "## Converting Monolingual Malay sentences to Code-switch English-Malay Sentence"
      ],
      "metadata": {
        "id": "Jg6a13KN5OcC"
      }
    },
    {
      "cell_type": "code",
      "source": [
        "mal_noun = [\"NOUN\",\"PROPN\"]\n",
        "mal_pron = [\"PRON\"]\n",
        "mal_verb = [\"ADX\",\"VERB\"]\n",
        "mal_adv = [\"ADV\"]\n",
        "mal_adj = [\"ADJ\"]\n",
        "mal_adp = [\"ADP\"]\n",
        "mal_conj = [\"CCONJ\",\"SCONJ\"]\n",
        "mal_det = [\"DET\"]\n",
        "mal_par = [\"PART\"]\n",
        "mal_num = [\"NUM\"]\n",
        "mal_sym = [\"SYM\"]\n",
        "mal_oth = [\"X\", \"PUNCT\"]\n",
        "\n",
        "def malPOS(pos_mal):\n",
        "    mal = \"\"\n",
        "    if pos_mal in mal_noun:\n",
        "        mal = \"NOUN\"\n",
        "    elif pos_mal in mal_pron:\n",
        "        mal = \"PRON\"\n",
        "    elif pos_mal in mal_verb:\n",
        "        mal = \"VERB\"\n",
        "    elif pos_mal in mal_adv:\n",
        "        mal = \"ADVB\"\n",
        "    elif pos_mal in mal_adj:\n",
        "        mal = \"ADJC\"\n",
        "    elif pos_mal in mal_adp:\n",
        "        mal = \"ADPN\"\n",
        "    elif pos_mal in mal_conj:\n",
        "        mal = \"CONJ\"\n",
        "    elif pos_mal in mal_det:\n",
        "        mal = \"DETR\"\n",
        "    elif pos_mal in mal_par:\n",
        "        mal = \"PCLE\"\n",
        "    elif pos_mal in mal_num:\n",
        "        mal = \"NMBR\"\n",
        "    elif pos_mal in mal_sym:\n",
        "        mal = \"SYMB\"\n",
        "    else:\n",
        "        mal = \"OTHR\"\n",
        "    \n",
        "    return mal"
      ],
      "metadata": {
        "id": "24xCSd2NVYdB"
      },
      "execution_count": null,
      "outputs": []
    },
    {
      "cell_type": "code",
      "source": [
        "from random import *\n",
        "def malay_translation_alignment(string_eng, string_mal, alignment_model):\n",
        "    resulting_model = model.predict(string_mal)\n",
        "    left_splitted = string_mal.split()\n",
        "    right_splitted = string_eng.split()\n",
        "    codeswitch_malay_sentence = \"\"\n",
        "    left_flag = False # False --> Malay and True --> English word\n",
        "    arr = [] # For storing the index which we have already added\n",
        "    if len(resulting_model) == 1:\n",
        "        txt = resulting_model[0][0]\n",
        "        if txt in list(\"!#$%&'()*+,-./:;<=>?@[\\]^_`{|}~\"):\n",
        "            codeswitch_malay_sentence = txt\n",
        "        elif txt.isnumeric():\n",
        "            codeswitch_malay_sentence = txt\n",
        "        else:\n",
        "            if randint(0, 100) > 50:\n",
        "                codeswitch_malay_sentence = GoogleTranslator(source='ms', target='en').translate(txt)\n",
        "            else:\n",
        "                codeswitch_malay_sentence = txt\n",
        "    else:\n",
        "        for i in range(len(resulting_model)-1):\n",
        "              left_txt = resulting_model[i][0]\n",
        "              left_pos = resulting_model[i][1]\n",
        "              if i == 0:\n",
        "                  if left_txt in list(\"!#$%&'()*+,-./:;<=>?@[\\]^_`{|}~\"):\n",
        "                      codeswitch_malay_sentence = \"\"\n",
        "                  elif left_txt.isnumeric():\n",
        "                      codeswitch_malay_sentence = left_txt + \" \"\n",
        "                  else:\n",
        "                      if randint(0, 100) > 50:\n",
        "                          codeswitch_malay_sentence = GoogleTranslator(source='ms', target='en').translate(left_txt)+ \" \"\n",
        "                      else:\n",
        "                          codeswitch_malay_sentence = left_txt+ \" \"\n",
        "                  \n",
        "              right_txt = resulting_model[i+1][0]\n",
        "              right_pos = resulting_model[i+1][1]\n",
        "              tag = malPOS(left_pos) + \" || \" + malPOS(right_pos)\n",
        "              if left_flag == False:\n",
        "                  if tag in mal_eng.keys():\n",
        "                      threshold = mal_eng[tag]\n",
        "                  else:\n",
        "                      threshold = 0\n",
        "              else:\n",
        "                  if tag in eng_mal.keys():\n",
        "                      threshold = eng_mal[tag]\n",
        "                  else:\n",
        "                      threshold = 0\n",
        "              rand = randint(0, 100)\n",
        "              if right_txt in list(\"!#$%&'()*+,-./:;<=>?@[\\]^_`{|}~\"):\n",
        "                  codeswitch_malay_sentence = codeswitch_malay_sentence[:-1] + right_txt + \" \"\n",
        "              elif right_txt.isnumeric():\n",
        "                  codeswitch_malay_sentence += right_txt + \" \"\n",
        "              else:\n",
        "                  if rand > threshold:\n",
        "                      left_flag = False\n",
        "                      wrd = GoogleTranslator(source='ms', target='en').translate(right_txt)\n",
        "                      wrd_eng = word_tokenize(wrd)\n",
        "                      resulting_model_eng = nltk.pos_tag(wrd_eng)\n",
        "                      if engPOS(resulting_model_eng[0][1]) == malPOS(right_pos):\n",
        "                          codeswitch_malay_sentence +=  wrd + ' '\n",
        "                      else:\n",
        "                          lst = \"\"\n",
        "                          for k in alignment_model:\n",
        "                              if (k[0] == i+1) and not (k[1] in arr):\n",
        "                                  arr.append(k[1])\n",
        "                                  lst += right_splitted[k[1]] + \" \"\n",
        "                          if len(lst.split()) != 0: \n",
        "                              codeswitch_malay_sentence +=  lst[:-1] + ' '\n",
        "                          else:\n",
        "                              codeswitch_malay_sentence +=  wrd + ' '\n",
        "                  else:\n",
        "                      left_flag = True\n",
        "                      codeswitch_malay_sentence += right_txt + \" \"\n",
        "    return codeswitch_malay_sentence"
      ],
      "metadata": {
        "id": "1gxTopahVf8f"
      },
      "execution_count": null,
      "outputs": []
    },
    {
      "cell_type": "code",
      "source": [
        "malay_text = []\n",
        "with open('Malay_Normalized.txt') as f:\n",
        "    malay_text = f.readlines()\n",
        "f.close()\n",
        "\n",
        "english_text = []\n",
        "with open('English_Normalized.txt') as f:\n",
        "    english_text = f.readlines()\n",
        "f.close()\n",
        "\n",
        "resulting_alignment_model = []\n",
        "size = 200\n",
        "for i in range(0,len(malay_text),size):\n",
        "    resulting_alignment_model += alignment_ms_en.align(malay_text[i:i+size], english_text[i:i+size], align_layer = 7)\n"
      ],
      "metadata": {
        "id": "4BvlvnolUqJN"
      },
      "execution_count": null,
      "outputs": []
    },
    {
      "cell_type": "code",
      "source": [
        "malay_cs = []\n",
        "for i in range(len(malay_text)):\n",
        "    string_mal = malay_text[i]\n",
        "    string_eng = english_text[i]\n",
        "    alignment_model = resulting_alignment_model[i]\n",
        "    codeswitch_malay_sentence = malay_translation_alignment(string_eng, string_mal, alignment_model)\n",
        "    malay_cs.append(codeswitch_malay_sentence)\n"
      ],
      "metadata": {
        "id": "WHau_jw8z3xG"
      },
      "execution_count": null,
      "outputs": []
    },
    {
      "cell_type": "code",
      "source": [
        "malay_cs_arr = []\n",
        "for i in malay_cs:\n",
        "        txt = \"\"\n",
        "        for j in range(len(standard_words)):\n",
        "            txt = i.replace(standard_words[j], accepted_words[j])\n",
        "        t = txt.split()\n",
        "        malay_cs_arr.append(\" \".join(t))\n",
        "\n",
        "malay_cs_text = \"\"\n",
        "for i in malay_cs_arr:\n",
        "    malay_cs_text += i + '\\n'\n",
        "\n",
        "f1 = open('Malay_CS.txt','w+')\n",
        "f1.write(malay_cs_text)\n",
        "f1.close()"
      ],
      "metadata": {
        "id": "FlYCNKN83ikb"
      },
      "execution_count": null,
      "outputs": []
    },
    {
      "cell_type": "markdown",
      "source": [
        "## Converting Monolingual English sentences to Code-switch English-Malay Sentence"
      ],
      "metadata": {
        "id": "cx-pZIFI5CYZ"
      }
    },
    {
      "cell_type": "code",
      "source": [
        "eng_noun = [\"NN\",\"NNP\",\"NNPS\",\"NNS\"]\n",
        "eng_pron = [\"PRP\",\"PRP$\",\"WP\",\"WP$\"]\n",
        "eng_verb = [\"VB\",\"VBD\",\"VBG\",\"VBN\",\"VBP\",\"VBZ\",\"MD\"]\n",
        "eng_adv = [\"RB\",\"RBR\",\"RBS\"]\n",
        "eng_adj = [\"JJ\",\"JJR\",\"JJS\"]\n",
        "eng_adp = [\"IN\"]\n",
        "eng_conj = [\"CC\"]\n",
        "eng_det = [\"DT\",\"PDT\",\"TO\",\"EX\"]\n",
        "eng_par = [\"RP\"]\n",
        "eng_num = [\"CD\"]\n",
        "eng_sym = [\"$\",\"(\",\")\",\",\",\"--\",\".\",\":\",\"SYM\",\"``\",\"''\"]\n",
        "eng_oth = [\"FW\",\"LS\",\"POS\",\"UH\"]\n",
        "\n",
        "def engPOS(pos_eng):\n",
        "    eng = \"\"\n",
        "    if pos_eng in eng_noun:\n",
        "        eng = \"NOUN\"\n",
        "    elif pos_eng in eng_pron:\n",
        "        eng = \"PRON\"\n",
        "    elif pos_eng in eng_verb:\n",
        "        eng = \"VERB\"\n",
        "    elif pos_eng in eng_adv:\n",
        "        eng = \"ADVB\"\n",
        "    elif pos_eng in eng_adj:\n",
        "        eng = \"ADJC\"\n",
        "    elif pos_eng in eng_adp:\n",
        "        eng = \"ADPN\"\n",
        "    elif pos_eng in eng_conj:\n",
        "        eng = \"CONJ\"\n",
        "    elif pos_eng in eng_det:\n",
        "        eng = \"DETR\"\n",
        "    elif pos_eng in eng_par:\n",
        "        eng = \"PCLE\"\n",
        "    elif pos_eng in eng_num:\n",
        "        eng = \"NMBR\"\n",
        "    elif pos_eng in eng_sym:\n",
        "        eng = \"SYMB\"\n",
        "    else:\n",
        "        eng = \"OTHR\"\n",
        "    \n",
        "    return eng"
      ],
      "metadata": {
        "id": "FJhx1rxFVZav"
      },
      "execution_count": null,
      "outputs": []
    },
    {
      "cell_type": "code",
      "source": [
        "from random import *\n",
        "def english_translation_alignment(string_eng, string_mal, alignment_model):\n",
        "    sentence_eng = word_tokenize(string_eng)\n",
        "    resulting_model = nltk.pos_tag(sentence_eng)    \n",
        "    right_splitted = string_mal.split()\n",
        "    left_splitted = string_eng.split()\n",
        "    codeswitch_english_sentence = \"\"\n",
        "    left_flag = True # False --> Malay and True --> English word\n",
        "    arr = [] # For storing the index which we have already added\n",
        "    if len(resulting_model) == 1:\n",
        "        txt = resulting_model[0][0]\n",
        "        if txt in list(\"!#$%&'()*+,-./:;<=>?@[\\]^_`{|}~\"):\n",
        "            codeswitch_english_sentence = txt\n",
        "        elif txt.isnumeric():\n",
        "            codeswitch_english_sentence = txt\n",
        "        else:\n",
        "            if randint(0, 100) > 50:\n",
        "                codeswitch_english_sentence = GoogleTranslator(source='en', target='ms').translate(txt)\n",
        "            else:\n",
        "                codeswitch_english_sentence = txt\n",
        "    else:\n",
        "        for i in range(len(resulting_model)-1):\n",
        "              left_txt = resulting_model[i][0]\n",
        "              left_pos = resulting_model[i][1]\n",
        "              if i == 0:\n",
        "                  if left_txt in list(\"!#$%&'()*+,-./:;<=>?@[\\]^_`{|}~\"):\n",
        "                      codeswitch_english_sentence = \"\"\n",
        "                  elif left_txt.isnumeric():\n",
        "                      codeswitch_english_sentence = left_txt + \" \"\n",
        "                  else:\n",
        "                      if randint(0, 100) > 50:\n",
        "                          codeswitch_english_sentence = GoogleTranslator(source='en', target='ms').translate(left_txt)+ \" \"\n",
        "                      else:\n",
        "                          codeswitch_english_sentence = left_txt+ \" \"\n",
        "                  \n",
        "              right_txt = resulting_model[i+1][0]\n",
        "              right_pos = resulting_model[i+1][1]\n",
        "              tag = engPOS(left_pos) + \" || \" + engPOS(right_pos)\n",
        "              if left_flag == False:\n",
        "                  if tag in mal_eng.keys():\n",
        "                      threshold = mal_eng[tag]\n",
        "                  else:\n",
        "                      threshold = 0\n",
        "              else:\n",
        "                  if tag in eng_mal.keys():\n",
        "                      threshold = eng_mal[tag]\n",
        "                  else:\n",
        "                      threshold = 0\n",
        "              rand = randint(0, 100)\n",
        "              if right_txt in list(\"!#$%&'()*+,-./:;<=>?@[\\]^_`{|}~\"):\n",
        "                  codeswitch_english_sentence = codeswitch_english_sentence[:-1] + right_txt + \" \"\n",
        "              elif right_txt.isnumeric():\n",
        "                  codeswitch_english_sentence += right_txt + \" \"\n",
        "              else:\n",
        "                  if rand > threshold:\n",
        "                      left_flag = False\n",
        "                      wrd = GoogleTranslator(source='en', target='ms').translate(right_txt)\n",
        "                      resulting_model_mal = model.predict(string_mal)\n",
        "                      if malPOS(resulting_model_mal[0][1]) == engPOS(right_pos):\n",
        "                          codeswitch_english_sentence +=  wrd + ' '\n",
        "                      else:\n",
        "                          lst = \"\"\n",
        "                          for k in alignment_model:\n",
        "                              if (k[0] == i+1) and not (k[1] in arr):\n",
        "                                  arr.append(k[1])\n",
        "                                  lst += right_splitted[k[1]] + \" \"\n",
        "                          if len(lst.split()) != 0: \n",
        "                              codeswitch_english_sentence +=  lst[:-1] + ' '\n",
        "                          else:\n",
        "                              codeswitch_english_sentence +=  wrd + ' '\n",
        "                  else:\n",
        "                      left_flag = True\n",
        "                      codeswitch_english_sentence += right_txt + \" \"\n",
        "    return codeswitch_english_sentence"
      ],
      "metadata": {
        "id": "aGy3aXsC0pAH"
      },
      "execution_count": null,
      "outputs": []
    },
    {
      "cell_type": "code",
      "source": [
        "malay_text = []\n",
        "with open('Malay_Normalized.txt') as f:\n",
        "    malay_text = f.readlines()\n",
        "f.close()\n",
        "\n",
        "english_text = []\n",
        "with open('English_Normalized.txt') as f:\n",
        "    english_text = f.readlines()\n",
        "f.close()\n",
        "\n",
        "resulting_alignment_model = []\n",
        "size = 200\n",
        "for i in range(0,len(english_text),size):\n",
        "    resulting_alignment_model += alignment_en_ms.align(english_text[i:i+size], malay_text[i:i+size], align_layer = 7)\n"
      ],
      "metadata": {
        "id": "PFEz7mQBNbXC"
      },
      "execution_count": null,
      "outputs": []
    },
    {
      "cell_type": "code",
      "source": [
        "english_cs = []\n",
        "for i in range(len(english_text)):\n",
        "    string_mal = malay_text[i]\n",
        "    string_eng = english_text[i]\n",
        "    alignment_model = resulting_alignment_model[i]\n",
        "    codeswitch_english_sentence = english_translation_alignment(string_eng, string_mal, alignment_model)\n",
        "    english_cs.append(codeswitch_english_sentence)\n"
      ],
      "metadata": {
        "id": "N0LG5y5l2Uvz"
      },
      "execution_count": null,
      "outputs": []
    },
    {
      "cell_type": "code",
      "source": [
        "english_cs_arr = []\n",
        "for i in english_cs:\n",
        "        txt = \"\"\n",
        "        for j in range(len(standard_words)):\n",
        "            txt = i.replace(standard_words[j], accepted_words[j])\n",
        "        t = txt.split()\n",
        "        english_cs_arr.append(\" \".join(t))\n",
        "\n",
        "english_cs_text = \"\"\n",
        "for i in english_cs_arr:\n",
        "    english_cs_text += i + '\\n'\n",
        "\n",
        "f1 = open('English_CS.txt','w+')\n",
        "f1.write(english_cs_text)\n",
        "f1.close()"
      ],
      "metadata": {
        "id": "2b7PBaaS4GH2"
      },
      "execution_count": null,
      "outputs": []
    }
  ]
}