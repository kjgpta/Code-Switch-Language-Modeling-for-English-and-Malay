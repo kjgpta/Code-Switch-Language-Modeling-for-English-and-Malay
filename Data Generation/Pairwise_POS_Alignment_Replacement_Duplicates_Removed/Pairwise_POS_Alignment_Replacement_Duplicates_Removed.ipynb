{
  "cells": [
    {
      "cell_type": "markdown",
      "metadata": {
        "id": "l1hZDLH9tdJr"
      },
      "source": [
        "# **Generates the code switched English/Malay Data from monolingual English and Malay Data** "
      ]
    },
    {
      "cell_type": "markdown",
      "metadata": {
        "id": "rKfxyD_0rWA_"
      },
      "source": [
        "**Input File details:**\n",
        "\n",
        "* Text files \"imda5eng.txt\" and \"imda5mal.txt\" is already normalized of extra spaces, repeated words/phrases (from preprocessing script)\n",
        "* Excel files \"POS_English.xlsx\" and \"POS_Malay.xlsx\" are already provided in the directory, these files consists of results of pair wise tagging which we are using while generating Code switched data.\n",
        "* CSV file \"malaywords.csv\" consists of words and its accepted form\n",
        "\n",
        "**Output File details:**\n",
        "\n",
        "* \"CS_English.txt\" contains Code-Switched data generated from Monolingual English Data\n",
        "* \"CS_Malay.txt\" contains Code-Switched data generated from Monolingual Malay Data\n",
        "\n",
        "**Contact:**\n",
        "*   Author: *Kshitij Gupta*\n",
        "*   Email: *mailguptakshitij@gmail.com*\n",
        "*   Last Updated: *26 August 2022*\n",
        "\n"
      ]
    },
    {
      "cell_type": "code",
      "execution_count": null,
      "metadata": {
        "colab": {
          "base_uri": "https://localhost:8080/"
        },
        "id": "cbRpQq-0AloS",
        "outputId": "dc5f2124-f7e4-4196-b613-1fe61c64b2bc"
      },
      "outputs": [
        {
          "name": "stdout",
          "output_type": "stream",
          "text": [
            "Mounted at /content/drive\n"
          ]
        }
      ],
      "source": [
        "# Mounting Google Drive\n",
        "from google.colab import drive\n",
        "drive.mount('/content/drive')"
      ]
    },
    {
      "cell_type": "code",
      "execution_count": null,
      "metadata": {
        "id": "j_yA_j_ZkVYs"
      },
      "outputs": [],
      "source": [
        "# Installing the required libraries\n",
        "!pip -q install h5py\n",
        "!pip -q install typing-extensions\n",
        "!pip -q install wheel\n",
        "!pip -q install imgaug==0.2.5\n",
        "!pip -q install malaya\n",
        "!pip -q install tensorflow==2.9.0\n",
        "!pip -q install tensorflow_addons\n",
        "!pip -q install transformers"
      ]
    },
    {
      "cell_type": "code",
      "execution_count": null,
      "metadata": {
        "id": "tjO6jTMWkYwL"
      },
      "outputs": [],
      "source": [
        "# Importing required modules\n",
        "import malaya\n",
        "import tensorflow as tf\n",
        "import pandas as pd\n",
        "import random\n",
        "import nltk\n",
        "from random import *\n",
        "from nltk import word_tokenize\n",
        "nltk.download('punkt')\n",
        "nltk.download('averaged_perceptron_tagger')\n",
        "nltk.download('tagsets')"
      ]
    },
    {
      "cell_type": "code",
      "execution_count": null,
      "metadata": {
        "id": "3WQlUoBlkh4Y"
      },
      "outputs": [],
      "source": [
        "# Importing POS Tagging Model, English to Malay Alignment Model, Malay to English Alignment Model\n",
        "model = malaya.pos.transformer(model = 'bert')\n",
        "alignment_ms_en = malaya.alignment.ms_en.huggingface()\n",
        "alignment_en_ms = malaya.alignment.en_ms.huggingface()"
      ]
    },
    {
      "cell_type": "code",
      "execution_count": null,
      "metadata": {
        "id": "qV8TlvnDlwVY"
      },
      "outputs": [],
      "source": [
        "# Saving the monolingual english sentences from \"imda5eng.txt\" in english_text array \n",
        "english_text = []\n",
        "with open('/content/drive/MyDrive/Thesis/IMDA_5/imda5eng.txt') as f:\n",
        "    english_text = f.readlines()\n",
        "f.close()\n",
        "\n",
        "# Saving the monolingual malay sentences from \"imda5mal.txt\" in malay_text array w\n",
        "malay_text = []\n",
        "with open('/content/drive/MyDrive/Thesis/IMDA_5/imda5mal.txt') as f:\n",
        "    malay_text = f.readlines()\n",
        "f.close()\n"
      ]
    },
    {
      "cell_type": "code",
      "execution_count": null,
      "metadata": {
        "id": "a8sMwHDiZ9BZ"
      },
      "outputs": [],
      "source": [
        "# Storing information regarding malay words and their shortened/accepted forms of word\n",
        "msdf = pd.read_csv(\"/content/drive/MyDrive/Thesis/malayspelling.csv\")\n",
        "msdf.columns = [\"Standard words\", \"Accepted words\"]\n",
        "standard_words = list(msdf[\"Standard words\"])\n",
        "accepted_words = list(msdf[\"Accepted words\"])"
      ]
    },
    {
      "cell_type": "code",
      "execution_count": null,
      "metadata": {
        "id": "lne0mDfjQClO"
      },
      "outputs": [],
      "source": [
        "# Reading the pairwise part of speech results in both English and Malay \n",
        "df1 = pd.read_excel('/content/drive/MyDrive/Thesis/IMDA_4/CS/Left_Right_POS_English.xlsx')\n",
        "df2 = pd.read_excel('/content/drive/MyDrive/Thesis/IMDA_4/CS/Left_Right_POS_Malay.xlsx')"
      ]
    },
    {
      "cell_type": "code",
      "execution_count": null,
      "metadata": {
        "id": "Wmr92IOCRkMR"
      },
      "outputs": [],
      "source": [
        "# Creating the dictionary which stores the pairwise part of speech results in both English and Malay \n",
        "eng_mal = dict()\n",
        "for i in range(int(df1.index[-1])+1):\n",
        "    eng_mal[df1.at[i,\"POS || POS\"]] =  df1.at[i,\"English to Malay Conversion Ratio\"]\n",
        "\n",
        "mal_eng = dict()\n",
        "for i in range(int(df2.index[-1])+1):\n",
        "    mal_eng[df2.at[i,\"POS || POS\"]] =  df2.at[i,\"Malay to English Conversion Ratio\"]"
      ]
    },
    {
      "cell_type": "code",
      "execution_count": null,
      "metadata": {},
      "outputs": [],
      "source": [
        "# Alignment results\n",
        "results_eng = alignment_en_ms.align(english_text, malay_text, align_layer = 7)\n",
        "results_mal = alignment_ms_en.align(malay_text, english_text, align_layer = 7)\n",
        "print(\"Alignment results completed\")"
      ]
    },
    {
      "cell_type": "markdown",
      "metadata": {
        "id": "IPYMq3SWu0Bd"
      },
      "source": [
        "POS tags stored are distributed among 12 categories  \n",
        "1. Noun\n",
        "2. Pronoun\n",
        "3. Verb\n",
        "4. Adverb\n",
        "5. Adjective\n",
        "6. Adposition \n",
        "7. Conjunction\n",
        "8. Determiner\n",
        "9. Particle\n",
        "10. Number\n",
        "11. Symbol\n",
        "12. Other"
      ]
    },
    {
      "cell_type": "code",
      "execution_count": null,
      "metadata": {
        "id": "QrpF4ixO7bXr"
      },
      "outputs": [],
      "source": [
        "mal_noun = [\"NOUN\",\"PROPN\"]\n",
        "mal_pron = [\"PRON\"]\n",
        "mal_verb = [\"ADX\",\"VERB\"]\n",
        "mal_adv = [\"ADV\"]\n",
        "mal_adj = [\"ADJ\"]\n",
        "mal_adp = [\"ADP\"]\n",
        "mal_conj = [\"CCONJ\",\"SCONJ\"]\n",
        "mal_det = [\"DET\"]\n",
        "mal_par = [\"PART\"]\n",
        "mal_num = [\"NUM\"]\n",
        "mal_sym = [\"SYM\"]\n",
        "mal_oth = [\"X\"]\n",
        "\n",
        "\n",
        "eng_noun = [\"NN\",\"NNP\",\"NNPS\",\"NNS\"] \n",
        "eng_pron = [\"PRP\",\"PRP$\",\"WP\",\"WP$\"]\n",
        "eng_verb = [\"VB\",\"VBD\",\"VBG\",\"VBN\",\"VBP\",\"VBZ\",\"MD\"]\n",
        "eng_adv = [\"RB\",\"RBR\",\"RBS\"]\n",
        "eng_adj = [\"JJ\",\"JJR\",\"JJS\"]\n",
        "eng_adp = [\"IN\"]\n",
        "eng_conj = [\"CC\"]\n",
        "eng_det = [\"DT\",\"PDT\",\"TO\",\"EX\"]\n",
        "eng_par = [\"RP\"]\n",
        "eng_num = [\"CD\"]\n",
        "eng_sym = [\"$\",\"(\",\")\",\",\",\"--\",\".\",\":\",\"SYM\",\"``\",\"''\"]\n",
        "eng_oth = [\"FW\",\"LS\",\"POS\",\"UH\"]\n"
      ]
    },
    {
      "cell_type": "code",
      "execution_count": null,
      "metadata": {
        "id": "ytF1JCsISbls"
      },
      "outputs": [],
      "source": [
        "# Function for getting information about category to which our POS belong\n",
        "def engPOS(pos_eng):\n",
        "    eng = \"\"\n",
        "    if pos_eng in eng_noun:\n",
        "        eng = \"NOUN\"\n",
        "    elif pos_eng in eng_pron:\n",
        "        eng = \"PRON\"\n",
        "    elif pos_eng in eng_verb:\n",
        "        eng = \"VERB\"\n",
        "    elif pos_eng in eng_adv:\n",
        "        eng = \"ADVB\"\n",
        "    elif pos_eng in eng_adj:\n",
        "        eng = \"ADJC\"\n",
        "    elif pos_eng in eng_adp:\n",
        "        eng = \"ADPN\"\n",
        "    elif pos_eng in eng_conj:\n",
        "        eng = \"CONJ\"\n",
        "    elif pos_eng in eng_det:\n",
        "        eng = \"DETR\"\n",
        "    elif pos_eng in eng_par:\n",
        "        eng = \"PCLE\"\n",
        "    elif pos_eng in eng_num:\n",
        "        eng = \"NMBR\"\n",
        "    elif pos_eng in eng_sym:\n",
        "        eng = \"SYMB\"\n",
        "    else:\n",
        "        eng = \"OTHR\"\n",
        "    return eng\n",
        "\n",
        "\n",
        "def malPOS(pos_mal):\n",
        "    mal = \"\"\n",
        "    if pos_mal in mal_noun:\n",
        "        mal = \"NOUN\"\n",
        "    elif pos_mal in mal_pron:\n",
        "        mal = \"PRON\"\n",
        "    elif pos_mal in mal_verb:\n",
        "        mal = \"VERB\"\n",
        "    elif pos_mal in mal_adv:\n",
        "        mal = \"ADVB\"\n",
        "    elif pos_mal in mal_adj:\n",
        "        mal = \"ADJC\"\n",
        "    elif pos_mal in mal_adp:\n",
        "        mal = \"ADPN\"\n",
        "    elif pos_mal in mal_conj:\n",
        "        mal = \"CONJ\"\n",
        "    elif pos_mal in mal_det:\n",
        "        mal = \"DETR\"\n",
        "    elif pos_mal in mal_par:\n",
        "        mal = \"PCLE\"\n",
        "    elif pos_mal in mal_num:\n",
        "        mal = \"NMBR\"\n",
        "    elif pos_mal in mal_sym:\n",
        "        mal = \"SYMB\"\n",
        "    else:\n",
        "        mal = \"OTHR\"\n",
        "    return mal\n"
      ]
    },
    {
      "cell_type": "code",
      "execution_count": null,
      "metadata": {
        "id": "dtdJpFO5noME"
      },
      "outputs": [],
      "source": [
        "# Now, we will be converting our monolingual English to Code switched English/Malay\n",
        "english_cs_text = []\n",
        "n = len(english_text)\n",
        "current_sent = 0\n",
        "for l in range(n):\n",
        "    if current_sent%100 == 0:\n",
        "        print(str(current_sent) + \"/\" + str(n))\n",
        "    current_sent += 1\n",
        "    string_eng = english_text[l]\n",
        "    string_mal = malay_text[l]\n",
        "    sentence_eng = word_tokenize(string_eng)\n",
        "    resulting_model_eng = nltk.pos_tag(sentence_eng)\n",
        "    resulting_alignment_model = results_eng[l]\n",
        "    left_splitted = string_eng.split()\n",
        "    right_splitted = string_mal.split()\n",
        "    codeswitch_english_sentence = \"\"\n",
        "    left_flag = False # False --> English and True --> Malay word\n",
        "    arr = [] # For storing the index of alignment words which we have already added in our code switched sentence\n",
        "    for i in range(len(resulting_model_eng)-1):\n",
        "        left_txt = resulting_model_eng[i][0]\n",
        "        left_pos = resulting_model_eng[i][1]\n",
        "        right_txt = resulting_model_eng[i+1][0]\n",
        "        right_pos = resulting_model_eng[i+1][1]\n",
        "        tag = engPOS(left_pos) + \" || \" + engPOS(right_pos)\n",
        "        if i == 0:\n",
        "            codeswitch_english_sentence += left_txt + ' '\n",
        "        if left_flag == False:\n",
        "            if tag in eng_mal.keys():\n",
        "                threshold = eng_mal[tag]\n",
        "            else:\n",
        "                threshold = 0\n",
        "        else:\n",
        "            if tag in mal_eng.keys():\n",
        "                threshold = mal_eng[tag]\n",
        "            else:\n",
        "                threshold = 0\n",
        "        threshold = 100-threshold\n",
        "        rand = randint(0, 100)\n",
        "        if rand > threshold:\n",
        "            left_flag = True\n",
        "            lst = \"\"\n",
        "            for k in resulting_alignment_model:\n",
        "                if (k[0] == i+1) and not (k[1] in arr):\n",
        "                    arr.append(k[1])\n",
        "                    lst += right_splitted[k[1]] + \" \"\n",
        "            codeswitch_english_sentence +=  lst + ' '\n",
        "        else:\n",
        "            left_flag = False\n",
        "            codeswitch_english_sentence += right_txt + \" \"\n",
        "    english_cs_text.append(codeswitch_english_sentence)"
      ]
    },
    {
      "cell_type": "code",
      "execution_count": null,
      "metadata": {
        "id": "S2bS3zP8vU4u"
      },
      "outputs": [],
      "source": [
        "# Now, we will be converting our monolingual Malay to Code switched English/Malay\n",
        "malay_cs_text = []\n",
        "n = len(malay_text)\n",
        "current_sent = 0\n",
        "for l in range(n):\n",
        "    if current_sent%100 == 0:\n",
        "        print(str(current_sent) + \"/\" + str(n))\n",
        "    current_sent += 1\n",
        "    string_eng = english_text[l]\n",
        "    string_mal = malay_text[l]\n",
        "    resulting_model = model.predict(string_mal)\n",
        "    resulting_alignment_model = results_mal[l]\n",
        "    left_splitted = string_mal.split()\n",
        "    right_splitted = string_eng.split()\n",
        "    codeswitch_malay_sentence = \"\"\n",
        "    left_flag = False # False --> Malay and True --> English word\n",
        "    arr = [] # For storing the index of alignment words which we have already added in our code switched sentence\n",
        "    for i in range(len(resulting_model)-1):\n",
        "        left_txt = resulting_model[i][0]\n",
        "        left_pos = resulting_model[i][1]\n",
        "        right_txt = resulting_model[i+1][0]\n",
        "        right_pos = resulting_model[i+1][1]\n",
        "        tag = malPOS(left_pos) + \" || \" + malPOS(right_pos)\n",
        "        if i == 0:\n",
        "            codeswitch_malay_sentence += left_txt + ' '\n",
        "        if left_flag == False:\n",
        "            if tag in mal_eng.keys():\n",
        "                threshold = mal_eng[tag]\n",
        "            else:\n",
        "                threshold = 0\n",
        "        else:\n",
        "            if tag in eng_mal.keys():\n",
        "                threshold = mal_eng[tag]\n",
        "            else:\n",
        "                threshold = 0\n",
        "        threshold = 100-threshold\n",
        "        rand = randint(0, 100)\n",
        "        if rand > threshold:\n",
        "            left_flag = False\n",
        "            lst = \"\"\n",
        "            for k in resulting_alignment_model:\n",
        "                if (k[0] == i+1) and not (k[1] in arr):\n",
        "                    arr.append(k[1])\n",
        "                    lst += right_splitted[k[1]] + \" \"\n",
        "            codeswitch_malay_sentence +=  lst + ' '\n",
        "        else:\n",
        "            left_flag = True\n",
        "            codeswitch_malay_sentence += right_txt + \" \"\n",
        "    malay_cs_text.append(codeswitch_malay_sentence)\n"
      ]
    },
    {
      "cell_type": "code",
      "execution_count": null,
      "metadata": {
        "id": "P0L6EycXkS4N"
      },
      "outputs": [],
      "source": [
        "# Replacing words with their accepted/short form of words\n",
        "english_cs_arr = []\n",
        "for i in english_cs_text:\n",
        "    txt = \"\"\n",
        "    for j in range(len(standard_words)):\n",
        "        txt = i.replace(standard_words[j], accepted_words[j].lower())\n",
        "        txt = txt.replace(standard_words[j].lower(), accepted_words[j].lower())\n",
        "    t = txt.split()\n",
        "    english_cs_arr.append(\" \".join(t))\n",
        "\n",
        "malay_cs_arr = []\n",
        "for i in malay_cs_text:\n",
        "    txt = \"\"\n",
        "    for j in range(len(standard_words)):\n",
        "        txt = i.replace(standard_words[j], accepted_words[j].lower())\n",
        "        txt = txt.replace(standard_words[j].lower(), accepted_words[j].lower())\n",
        "    t = txt.split()\n",
        "    malay_cs_arr.append(\" \".join(t))"
      ]
    },
    {
      "cell_type": "code",
      "execution_count": null,
      "metadata": {
        "id": "12FAJU_akfgX"
      },
      "outputs": [],
      "source": [
        "# Saving the Code-Switched data files for English and Malay\n",
        "english_cs = \"\"\n",
        "for i in english_cs_arr:\n",
        "    english_cs += i + '\\n'\n",
        "filename = \"CS_English.txt\"\n",
        "f1 = open(filename, \"w+\")\n",
        "f1.write(english_cs)\n",
        "f1.close()\n",
        "\n",
        "malay_cs = \"\"\n",
        "for i in malay_cs_arr:\n",
        "    malay_cs += i + '\\n'\n",
        "filename = \"CS_Malay.txt\"\n",
        "f2 = open(filename, \"w+\")\n",
        "f2.write(malay_cs)\n",
        "f2.close()"
      ]
    },
    {
      "cell_type": "code",
      "execution_count": null,
      "metadata": {
        "id": "11a049Kh4ALe"
      },
      "outputs": [],
      "source": []
    }
  ],
  "metadata": {
    "accelerator": "GPU",
    "colab": {
      "collapsed_sections": [],
      "name": "Pairwise_POS_Alignment_Replacement_Duplicates_Removed.ipynb",
      "provenance": []
    },
    "gpuClass": "standard",
    "kernelspec": {
      "display_name": "Python 3.8.10 64-bit",
      "language": "python",
      "name": "python3"
    },
    "language_info": {
      "name": "python",
      "version": "3.8.10"
    },
    "vscode": {
      "interpreter": {
        "hash": "916dbcbb3f70747c44a77c7bcd40155683ae19c65e1c03b4aa3499c5328201f1"
      }
    }
  },
  "nbformat": 4,
  "nbformat_minor": 0
}
