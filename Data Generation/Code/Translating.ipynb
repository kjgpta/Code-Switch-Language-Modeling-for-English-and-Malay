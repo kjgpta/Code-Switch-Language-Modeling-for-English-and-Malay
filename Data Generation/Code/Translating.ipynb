{
 "cells": [
  {
   "cell_type": "code",
   "execution_count": null,
   "metadata": {},
   "outputs": [],
   "source": [
    "# Installing and Importing required libraries\n",
    "!pip -q install deep-translator\n",
    "from deep_translator import GoogleTranslator"
   ]
  },
  {
   "cell_type": "code",
   "execution_count": null,
   "metadata": {},
   "outputs": [],
   "source": [
    "english_text = []\n",
    "with open('English_Normalized.txt') as f:\n",
    "    english_text = f.readlines()\n",
    "f.close()"
   ]
  },
  {
   "cell_type": "code",
   "execution_count": null,
   "metadata": {},
   "outputs": [],
   "source": [
    "# Translating Normalized English Data to Malay\n",
    "malay_text = \"\"\n",
    "for i in range(len(english_text)):\n",
    "    malay_text += GoogleTranslator(source='en', target='ms').translate(english_text[i]) + \"\\n\"\n",
    "\n",
    "f1 = open(\"Malay_Normalized.txt\", \"w\")\n",
    "f1.write(malay_text)\n",
    "f1.close()"
   ]
  }
 ],
 "metadata": {
  "language_info": {
   "name": "python"
  },
  "orig_nbformat": 4
 },
 "nbformat": 4,
 "nbformat_minor": 2
}
