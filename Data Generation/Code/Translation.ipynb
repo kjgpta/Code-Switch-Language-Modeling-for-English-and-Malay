{
 "cells": [
  {
   "attachments": {},
   "cell_type": "markdown",
   "metadata": {},
   "source": [
    "# Translating the NSC Dataset"
   ]
  },
  {
   "cell_type": "code",
   "execution_count": null,
   "metadata": {},
   "outputs": [],
   "source": [
    "# Installing and Importing required libraries\n",
    "!pip -q install deep-translator\n",
    "from deep_translator import GoogleTranslator"
   ]
  },
  {
   "attachments": {},
   "cell_type": "markdown",
   "metadata": {},
   "source": [
    "## Converting the Malay sentences to English sentences using deep-translator library"
   ]
  },
  {
   "cell_type": "code",
   "execution_count": null,
   "metadata": {},
   "outputs": [],
   "source": [
    "english_text = []\n",
    "with open('English_Data.txt') as f:\n",
    "    english_text = f.readlines()\n",
    "f.close()"
   ]
  },
  {
   "cell_type": "code",
   "execution_count": null,
   "metadata": {},
   "outputs": [],
   "source": [
    "# Translating Normalized English Data to Malay\n",
    "malay_text = \"\"\n",
    "for i in range(len(english_text)):\n",
    "    malay_text += GoogleTranslator(source='en', target='ms').translate(english_text[i]) + \"\\n\"\n",
    "\n",
    "f1 = open(\"Malay_Data_Translated.txt\", \"w\")\n",
    "f1.write(malay_text)\n",
    "f1.close()"
   ]
  },
  {
   "attachments": {},
   "cell_type": "markdown",
   "metadata": {},
   "source": [
    "## Converting the Malay sentences to English sentences using deep-translator library"
   ]
  },
  {
   "cell_type": "code",
   "execution_count": null,
   "metadata": {},
   "outputs": [],
   "source": [
    "malay_text = []\n",
    "with open('Malay_Data.txt') as f:\n",
    "    malay_text = f.readlines()\n",
    "f.close()"
   ]
  },
  {
   "cell_type": "code",
   "execution_count": null,
   "metadata": {},
   "outputs": [],
   "source": [
    "# Translating Malay Data to English\n",
    "english_text = \"\"\n",
    "for i in range(len(malay_text)):\n",
    "    english_text += GoogleTranslator(source='ms', target='en').translate(malay_text[i]) + \"\\n\"\n",
    "\n",
    "f1 = open(\"English_Data_Translated.txt\", \"w\")\n",
    "f1.write(english_text)\n",
    "f1.close()"
   ]
  }
 ],
 "metadata": {
  "language_info": {
   "name": "python"
  },
  "orig_nbformat": 4
 },
 "nbformat": 4,
 "nbformat_minor": 2
}
