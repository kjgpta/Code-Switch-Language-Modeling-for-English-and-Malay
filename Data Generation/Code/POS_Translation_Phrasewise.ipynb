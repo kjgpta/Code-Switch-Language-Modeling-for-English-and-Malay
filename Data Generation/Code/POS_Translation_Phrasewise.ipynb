{
  "cells": [
    {
      "cell_type": "markdown",
      "metadata": {
        "id": "oFoF989C5Whl"
      },
      "source": [
        "# Installing and Importing required libraries"
      ]
    },
    {
      "cell_type": "code",
      "execution_count": null,
      "metadata": {
        "id": "wUWCCjLiRDae"
      },
      "outputs": [],
      "source": [
        "!pip -q install h5py\n",
        "!pip -q install typing-extensions\n",
        "!pip -q install wheel\n",
        "!pip -q install imgaug==0.2.5\n",
        "!pip -q install malaya[gpu]==4.9.0\n",
        "!pip -q install tensorflow==2.9.0\n",
        "!pip -q install tensorflow_addons\n",
        "!pip -q install deep-translator"
      ]
    },
    {
      "cell_type": "code",
      "execution_count": null,
      "metadata": {
        "id": "mxCU1uLwUkfM"
      },
      "outputs": [],
      "source": [
        "import malaya\n",
        "from random import *\n",
        "import nltk\n",
        "import tensorflow as tf\n",
        "import pandas as pd\n",
        "from nltk import word_tokenize\n",
        "from deep_translator import GoogleTranslator\n",
        "nltk.download('punkt')\n",
        "nltk.download('averaged_perceptron_tagger')\n",
        "nltk.download('tagsets')"
      ]
    },
    {
      "cell_type": "code",
      "execution_count": null,
      "metadata": {
        "id": "WBNnC-1YUnox"
      },
      "outputs": [],
      "source": [
        "model = malaya.pos.transformer(model = 'bert')"
      ]
    },
    {
      "cell_type": "markdown",
      "metadata": {
        "id": "4R0bquhb7fPH"
      },
      "source": [
        "## Importing the required data from real Codeswitch data"
      ]
    },
    {
      "cell_type": "code",
      "execution_count": null,
      "metadata": {
        "id": "IEFr4tbKVdvV"
      },
      "outputs": [],
      "source": [
        "df1 = pd.read_excel('Left_Right_POS_English.xlsx')\n",
        "df2 = pd.read_excel('Left_Right_POS_Malay.xlsx')"
      ]
    },
    {
      "cell_type": "code",
      "execution_count": null,
      "metadata": {
        "id": "No6VETWV3fJo"
      },
      "outputs": [],
      "source": [
        "msdf = pd.read_csv(\"Malay_Substitutes.csv\")\n",
        "msdf.columns = [\"Index\", \"Standard words\", \"Accepted words\"]\n",
        "standard_words = list(msdf[\"Standard words\"])\n",
        "accepted_words = list(msdf[\"Accepted words\"])"
      ]
    },
    {
      "cell_type": "code",
      "execution_count": null,
      "metadata": {
        "id": "7kNLUdnQVfc-"
      },
      "outputs": [],
      "source": [
        "eng_mal = dict()\n",
        "for i in range(int(df1.index[-1])+1):\n",
        "    eng_mal[df1.at[i,\"POS || POS\"]] =  df1.at[i,\"English to Malay Conversion Ratio\"]\n",
        "\n",
        "mal_eng = dict()\n",
        "for i in range(int(df2.index[-1])+1):\n",
        "    mal_eng[df2.at[i,\"POS || POS\"]] =  df2.at[i,\"Malay to English Conversion Ratio\"]"
      ]
    },
    {
      "cell_type": "markdown",
      "metadata": {
        "id": "Jg6a13KN5OcC"
      },
      "source": [
        "## Converting Monolingual Malay sentences to Code-switch English-Malay Sentence"
      ]
    },
    {
      "cell_type": "code",
      "execution_count": null,
      "metadata": {
        "id": "24xCSd2NVYdB"
      },
      "outputs": [],
      "source": [
        "mal_noun = [\"NOUN\",\"PROPN\"]\n",
        "mal_pron = [\"PRON\"]\n",
        "mal_verb = [\"ADX\",\"VERB\"]\n",
        "mal_adv = [\"ADV\"]\n",
        "mal_adj = [\"ADJ\"]\n",
        "mal_adp = [\"ADP\"]\n",
        "mal_conj = [\"CCONJ\",\"SCONJ\"]\n",
        "mal_det = [\"DET\"]\n",
        "mal_par = [\"PART\"]\n",
        "mal_num = [\"NUM\"]\n",
        "mal_sym = [\"SYM\"]\n",
        "mal_oth = [\"X\", \"PUNCT\"]\n",
        "\n",
        "def malPOS(pos_mal):\n",
        "    mal = \"\"\n",
        "    if pos_mal in mal_noun:\n",
        "        mal = \"NOUN\"\n",
        "    elif pos_mal in mal_pron:\n",
        "        mal = \"PRON\"\n",
        "    elif pos_mal in mal_verb:\n",
        "        mal = \"VERB\"\n",
        "    elif pos_mal in mal_adv:\n",
        "        mal = \"ADVB\"\n",
        "    elif pos_mal in mal_adj:\n",
        "        mal = \"ADJC\"\n",
        "    elif pos_mal in mal_adp:\n",
        "        mal = \"ADPN\"\n",
        "    elif pos_mal in mal_conj:\n",
        "        mal = \"CONJ\"\n",
        "    elif pos_mal in mal_det:\n",
        "        mal = \"DETR\"\n",
        "    elif pos_mal in mal_par:\n",
        "        mal = \"PCLE\"\n",
        "    elif pos_mal in mal_num:\n",
        "        mal = \"NMBR\"\n",
        "    elif pos_mal in mal_sym:\n",
        "        mal = \"SYMB\"\n",
        "    else:\n",
        "        mal = \"OTHR\"\n",
        "    \n",
        "    return mal"
      ]
    },
    {
      "cell_type": "code",
      "execution_count": null,
      "metadata": {
        "id": "1gxTopahVf8f"
      },
      "outputs": [],
      "source": [
        "def malay_array_generator(string_mal):\n",
        "    resulting_model = model.predict(string_mal)\n",
        "    eng_ar = []\n",
        "    mal_ar = []\n",
        "    left_flag = False # False --> Malay and True --> English word\n",
        "    flag = False # False --> 1st word is malay\n",
        "    if len(resulting_model) == 1:\n",
        "        txt = resulting_model[0][0]\n",
        "        if randint(0, 100) > 50:\n",
        "            eng_ar.append(txt)\n",
        "        else:\n",
        "            mal_ar.append(txt)\n",
        "    else:\n",
        "        eng = \"\"\n",
        "        mal = \"\"\n",
        "        for i in range(len(resulting_model)-1):\n",
        "              left_txt = resulting_model[i][0]\n",
        "              left_pos = resulting_model[i][1]\n",
        "              if i == 0:\n",
        "                  if randint(0, 100) > 50:\n",
        "                      eng += left_txt+ \" \"\n",
        "                      left_flag = True\n",
        "                      flag = True\n",
        "                  else:\n",
        "                      mal += left_txt+ \" \"\n",
        "              right_txt = resulting_model[i+1][0]\n",
        "              right_pos = resulting_model[i+1][1]\n",
        "              tag = malPOS(left_pos) + \" || \" + malPOS(right_pos)\n",
        "              if left_flag == False:\n",
        "                  if tag in mal_eng.keys():\n",
        "                      threshold = mal_eng[tag]\n",
        "                  else:\n",
        "                      threshold = 0\n",
        "              else:\n",
        "                  if tag in eng_mal.keys():\n",
        "                      threshold = eng_mal[tag]\n",
        "                  else:\n",
        "                      threshold = 0\n",
        "              rand = randint(0, 100)\n",
        "              if rand > threshold:\n",
        "                  left_flag = True\n",
        "                  if eng == \"\":\n",
        "                      mal_ar.append(mal)\n",
        "                      mal = \"\"\n",
        "                  eng += right_txt + \" \"\n",
        "              else:\n",
        "                  left_flag = False\n",
        "                  if mal == \"\":\n",
        "                      eng_ar.append(eng)\n",
        "                      eng = \"\"\n",
        "                  mal += right_txt + \" \"\n",
        "        if eng == \"\":\n",
        "            mal_ar.append(mal)\n",
        "        else:\n",
        "            eng_ar.append(eng)  \n",
        "    return eng_ar, mal_ar, flag"
      ]
    },
    {
      "cell_type": "code",
      "execution_count": null,
      "metadata": {
        "id": "CUGNJE68y98J"
      },
      "outputs": [],
      "source": [
        "def malay_sentence(eng_ar, mal_ar, flag):\n",
        "    sentence = \"\"\n",
        "    i = 0\n",
        "    j = 0\n",
        "    if len(eng_ar) != 0 and flag:\n",
        "        while i < len(eng_ar) or j < len(mal_ar):\n",
        "            if i < len(eng_ar):\n",
        "                try: \n",
        "                    sentence += GoogleTranslator(source='ms', target='en').translate(eng_ar[i][:-1]) + \" \"\n",
        "                except: \n",
        "                    sentence += eng_ar[i][:-1] + \" \"\n",
        "                i += 1\n",
        "            if j < len(mal_ar):\n",
        "                sentence += mal_ar[j][:-1] + \" \"\n",
        "                j += 1\n",
        "    else:\n",
        "        while i < len(eng_ar) or j < len(mal_ar):\n",
        "            if j < len(mal_ar):\n",
        "                sentence += mal_ar[j][:-1] + \" \"\n",
        "                j += 1\n",
        "            if i < len(eng_ar):\n",
        "                try:\n",
        "                    sentence += GoogleTranslator(source='ms', target='en').translate(eng_ar[i][:-1]) + \" \"\n",
        "                except:\n",
        "                    sentence += eng_ar[i][:-1] + \" \"\n",
        "                i += 1\n",
        "    return sentence"
      ]
    },
    {
      "cell_type": "code",
      "execution_count": null,
      "metadata": {
        "id": "4BvlvnolUqJN"
      },
      "outputs": [],
      "source": [
        "malay_text = []\n",
        "with open('Malay_Normalized.txt') as f:\n",
        "    malay_text = f.readlines()\n",
        "f.close()"
      ]
    },
    {
      "cell_type": "code",
      "execution_count": null,
      "metadata": {
        "id": "WHau_jw8z3xG"
      },
      "outputs": [],
      "source": [
        "malay_cs = []\n",
        "for i in range(len(malay_text)):\n",
        "    string_mal = malay_text[i]\n",
        "    eng_ar, mal_ar, flag = malay_array_generator(string_mal)\n",
        "    if string_mal != \"\\n\":\n",
        "        sentence = malay_sentence(eng_ar, mal_ar, flag)\n",
        "        malay_cs.append(sentence)\n"
      ]
    },
    {
      "cell_type": "code",
      "execution_count": null,
      "metadata": {
        "id": "FlYCNKN83ikb"
      },
      "outputs": [],
      "source": [
        "malay_cs_arr = []\n",
        "for i in malay_cs:\n",
        "        txt = \"\"\n",
        "        for j in range(len(standard_words)):\n",
        "            txt = i.replace(standard_words[j], accepted_words[j])\n",
        "        t = txt.split()\n",
        "        malay_cs_arr.append(\" \".join(t))\n",
        "\n",
        "malay_cs_text = \"\"\n",
        "for i in malay_cs_arr:\n",
        "    malay_cs_text += i + '\\n'\n",
        "\n",
        "f1 = open('Malay_CS.txt','w+')\n",
        "f1.write(malay_cs_text)\n",
        "f1.close()"
      ]
    },
    {
      "cell_type": "markdown",
      "metadata": {
        "id": "cx-pZIFI5CYZ"
      },
      "source": [
        "## Converting Monolingual English sentences to Code-switch English-Malay Sentence"
      ]
    },
    {
      "cell_type": "code",
      "execution_count": null,
      "metadata": {
        "id": "FJhx1rxFVZav"
      },
      "outputs": [],
      "source": [
        "eng_noun = [\"NN\",\"NNP\",\"NNPS\",\"NNS\"]\n",
        "eng_pron = [\"PRP\",\"PRP$\",\"WP\",\"WP$\"]\n",
        "eng_verb = [\"VB\",\"VBD\",\"VBG\",\"VBN\",\"VBP\",\"VBZ\",\"MD\"]\n",
        "eng_adv = [\"RB\",\"RBR\",\"RBS\"]\n",
        "eng_adj = [\"JJ\",\"JJR\",\"JJS\"]\n",
        "eng_adp = [\"IN\"]\n",
        "eng_conj = [\"CC\"]\n",
        "eng_det = [\"DT\",\"PDT\",\"TO\",\"EX\"]\n",
        "eng_par = [\"RP\"]\n",
        "eng_num = [\"CD\"]\n",
        "eng_sym = [\"$\",\"(\",\")\",\",\",\"--\",\".\",\":\",\"SYM\",\"``\",\"''\"]\n",
        "eng_oth = [\"FW\",\"LS\",\"POS\",\"UH\"]\n",
        "\n",
        "def engPOS(pos_eng):\n",
        "    eng = \"\"\n",
        "    if pos_eng in eng_noun:\n",
        "        eng = \"NOUN\"\n",
        "    elif pos_eng in eng_pron:\n",
        "        eng = \"PRON\"\n",
        "    elif pos_eng in eng_verb:\n",
        "        eng = \"VERB\"\n",
        "    elif pos_eng in eng_adv:\n",
        "        eng = \"ADVB\"\n",
        "    elif pos_eng in eng_adj:\n",
        "        eng = \"ADJC\"\n",
        "    elif pos_eng in eng_adp:\n",
        "        eng = \"ADPN\"\n",
        "    elif pos_eng in eng_conj:\n",
        "        eng = \"CONJ\"\n",
        "    elif pos_eng in eng_det:\n",
        "        eng = \"DETR\"\n",
        "    elif pos_eng in eng_par:\n",
        "        eng = \"PCLE\"\n",
        "    elif pos_eng in eng_num:\n",
        "        eng = \"NMBR\"\n",
        "    elif pos_eng in eng_sym:\n",
        "        eng = \"SYMB\"\n",
        "    else:\n",
        "        eng = \"OTHR\"\n",
        "    \n",
        "    return eng"
      ]
    },
    {
      "cell_type": "code",
      "execution_count": null,
      "metadata": {
        "id": "aGy3aXsC0pAH"
      },
      "outputs": [],
      "source": [
        "def english_array_generator(string_eng):\n",
        "    sentence_eng = word_tokenize(string_eng)\n",
        "    resulting_model = nltk.pos_tag(sentence_eng)    \n",
        "    eng_ar = []\n",
        "    mal_ar = []\n",
        "    left_flag = True # False --> Malay and True --> English word\n",
        "    flag = True # True --> 1st word is English\n",
        "    if len(resulting_model) == 1:\n",
        "        txt = resulting_model[0][0]\n",
        "        if randint(0, 100) > 50:\n",
        "            mal_ar.append(txt)\n",
        "        else:\n",
        "            eng_ar.append(txt)\n",
        "    else:\n",
        "        eng = \"\"\n",
        "        mal = \"\"\n",
        "        for i in range(len(resulting_model)-1):\n",
        "              left_txt = resulting_model[i][0]\n",
        "              left_pos = resulting_model[i][1]\n",
        "              if i == 0:\n",
        "                  if randint(0, 100) > 50:\n",
        "                      mal += left_txt+ \" \"\n",
        "                      left_flag = False\n",
        "                      flag = False\n",
        "                  else:\n",
        "                      eng += left_txt+ \" \"\n",
        "              right_txt = resulting_model[i+1][0]\n",
        "              right_pos = resulting_model[i+1][1]\n",
        "              tag = engPOS(left_pos) + \" || \" + engPOS(right_pos)\n",
        "              if left_flag == False:\n",
        "                  if tag in mal_eng.keys():\n",
        "                      threshold = mal_eng[tag]\n",
        "                  else:\n",
        "                      threshold = 0\n",
        "              else:\n",
        "                  if tag in eng_mal.keys():\n",
        "                      threshold = eng_mal[tag]\n",
        "                  else:\n",
        "                      threshold = 0\n",
        "              rand = randint(0, 100)\n",
        "              if rand > threshold:\n",
        "                  left_flag = False\n",
        "                  if mal == \"\":\n",
        "                      eng_ar.append(eng)\n",
        "                      eng = \"\"\n",
        "                  mal += right_txt + \" \"\n",
        "              else:\n",
        "                  left_flag = True\n",
        "                  if eng == \"\":\n",
        "                      mal_ar.append(mal)\n",
        "                      mal = \"\"\n",
        "                  eng += right_txt + \" \"\n",
        "        if eng == \"\":\n",
        "            mal_ar.append(mal)\n",
        "        else:\n",
        "            eng_ar.append(eng)  \n",
        "    return eng_ar, mal_ar, flag"
      ]
    },
    {
      "cell_type": "code",
      "execution_count": null,
      "metadata": {
        "id": "5h2_8m281hD3"
      },
      "outputs": [],
      "source": [
        "def english_sentence(eng_ar, mal_ar, flag):\n",
        "    sentence = \"\"\n",
        "    i = 0\n",
        "    j = 0\n",
        "    if len(eng_ar) != 0 and flag:\n",
        "        while i < len(eng_ar) or j < len(mal_ar):\n",
        "            if i < len(eng_ar):\n",
        "                sentence += eng_ar[i][:-1] + \" \"\n",
        "                i += 1\n",
        "            if j < len(mal_ar):\n",
        "                try: \n",
        "                    sentence += GoogleTranslator(source='en', target='ms').translate(mal_ar[j][:-1]) + \" \"\n",
        "                except: \n",
        "                    sentence += mal_ar[j][:-1] + \" \"\n",
        "                j += 1\n",
        "    else:\n",
        "        while i < len(eng_ar) or j < len(mal_ar):\n",
        "            if j < len(mal_ar):\n",
        "                try: \n",
        "                    sentence += GoogleTranslator(source='en', target='ms').translate(mal_ar[j][:-1]) + \" \"\n",
        "                except: \n",
        "                    sentence += mal_ar[j][:-1] + \" \"\n",
        "                j += 1\n",
        "            if i < len(eng_ar):\n",
        "                sentence += eng_ar[i][:-1] + \" \"\n",
        "                i += 1\n",
        "    return sentence"
      ]
    },
    {
      "cell_type": "code",
      "execution_count": null,
      "metadata": {
        "id": "EdsMtRmK2QUr"
      },
      "outputs": [],
      "source": [
        "english_text = []\n",
        "with open('English_Normalized.txt') as f:\n",
        "    english_text = f.readlines()\n",
        "f.close()"
      ]
    },
    {
      "cell_type": "code",
      "execution_count": null,
      "metadata": {
        "id": "N0LG5y5l2Uvz"
      },
      "outputs": [],
      "source": [
        "english_cs = []\n",
        "for i in range(len(english_text)):\n",
        "    string_eng = english_text[i]\n",
        "    eng_ar, mal_ar, flag = english_array_generator(string_eng)\n",
        "    if string_eng != \"\\n\":\n",
        "        sentence = english_sentence(eng_ar, mal_ar, flag)\n",
        "        english_cs.append(sentence)\n"
      ]
    },
    {
      "cell_type": "code",
      "execution_count": null,
      "metadata": {
        "id": "2b7PBaaS4GH2"
      },
      "outputs": [],
      "source": [
        "english_cs_arr = []\n",
        "for i in english_cs:\n",
        "        txt = \"\"\n",
        "        for j in range(len(standard_words)):\n",
        "            txt = i.replace(standard_words[j], accepted_words[j])\n",
        "        t = txt.split()\n",
        "        english_cs_arr.append(\" \".join(t))\n",
        "\n",
        "english_cs_text = \"\"\n",
        "for i in english_cs_arr:\n",
        "    english_cs_text += i + '\\n'\n",
        "\n",
        "f1 = open('English_CS.txt','w+')\n",
        "f1.write(english_cs_text)\n",
        "f1.close()"
      ]
    }
  ],
  "metadata": {
    "colab": {
      "collapsed_sections": [],
      "provenance": []
    },
    "kernelspec": {
      "display_name": "Python 3.8.5 ('base')",
      "language": "python",
      "name": "python3"
    },
    "language_info": {
      "name": "python",
      "version": "3.8.5"
    },
    "vscode": {
      "interpreter": {
        "hash": "75e1efb84c03986af0e8f42485fed0cce10a00d55878541b86dc1dc64e57af84"
      }
    }
  },
  "nbformat": 4,
  "nbformat_minor": 0
}
