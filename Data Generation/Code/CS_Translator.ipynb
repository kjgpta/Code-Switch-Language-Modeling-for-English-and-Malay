{
  "cells": [
    {
      "cell_type": "markdown",
      "metadata": {
        "id": "uZJ2qQfRmvmW"
      },
      "source": [
        "#Code for converting English and Malay data into Codeswitch Sentences"
      ]
    },
    {
      "cell_type": "code",
      "execution_count": null,
      "metadata": {
        "id": "Tbu_K3hxmQuD"
      },
      "outputs": [],
      "source": [
        "# Installing the Required Libraries\n",
        "!pip -q install h5py\n",
        "!pip -q install typing-extensions\n",
        "!pip -q install wheel\n",
        "!pip -q install imgaug==0.2.5\n",
        "!pip -q install malaya\n",
        "!pip -q install tensorflow==2.9.0\n",
        "!pip -q install tensorflow_addons"
      ]
    },
    {
      "cell_type": "code",
      "execution_count": null,
      "metadata": {
        "id": "N1RNjWpEm5ai"
      },
      "outputs": [],
      "source": [
        "# Importing the required modules\n",
        "import malaya\n",
        "import pandas as pd\n",
        "import nltk\n",
        "from nltk import word_tokenize\n",
        "nltk.download('punkt')\n",
        "nltk.download('averaged_perceptron_tagger')\n",
        "nltk.download('tagsets')"
      ]
    },
    {
      "cell_type": "markdown",
      "metadata": {
        "id": "5RyZMzsmm88X"
      },
      "source": [
        "## Reading Monolingual English and Malay Data\n",
        "\n"
      ]
    },
    {
      "cell_type": "code",
      "execution_count": null,
      "metadata": {
        "id": "XhjqNEoWnGCe"
      },
      "outputs": [],
      "source": [
        "# \"english_data\" stores the english sentences from \"English_Data.txt\" file.\n",
        "# \"malay_data\" stores the malay sentences from \"Malay_Data.txt\" file.\n",
        "with open('English_Data.txt') as f:\n",
        "    english_data = f.readlines()\n",
        "f.close()\n",
        "\n",
        "with open('Malay_Data.txt') as f:\n",
        "    malay_data = f.readlines()\n",
        "f.close()"
      ]
    },
    {
      "cell_type": "markdown",
      "metadata": {
        "id": "Jq33Zvq9nKX2"
      },
      "source": [
        "##Loading Required Models necessary for Translation and POS tagging"
      ]
    },
    {
      "cell_type": "code",
      "execution_count": null,
      "metadata": {
        "id": "eVaJgUWPnS0D"
      },
      "outputs": [],
      "source": [
        "# loading the BERT model for POS tagging onto \"model\" variable.\n",
        "# loading the large model which malay to english translator onto \"translator_malay\" variable.\n",
        "# loading the base model which english to malay translator onto \"translator_english\" variable.\n",
        "model = malaya.pos.transformer(model = 'bert')\n",
        "translator_malay = malaya.translation.ms_en.transformer(model = 'large')\n",
        "translator_english = malaya.translation.en_ms.transformer()"
      ]
    },
    {
      "cell_type": "markdown",
      "metadata": {
        "id": "M-xddSeNnYmb"
      },
      "source": [
        "##Converting monolingual data into Code-Switched data\n",
        "We have two kinds of data Monolingual English and Monolingual Malay Sentences\n",
        "1.  **Monolingual Malay Data**\n",
        "    - Do POS tagging of a sentence and change specific POS of the Malay sentence to English\n",
        "2.  **Monolingual English Data**\n",
        "    - Do POS tagging of a sentence and change specific POS of the English sentence to Malay\n",
        "\n"
      ]
    },
    {
      "cell_type": "markdown",
      "metadata": {
        "id": "tfyR2X8in_uY"
      },
      "source": [
        "###Monolinugal Malay sentence to Code Switched Malay-English sentence\n",
        "\n",
        "\n",
        "\n",
        "\n",
        "---\n",
        "\n"
      ]
    },
    {
      "cell_type": "code",
      "execution_count": null,
      "metadata": {
        "id": "XyUNT3aznipv"
      },
      "outputs": [],
      "source": [
        "# \"malay_cs_text\" stores code switched data made from Monolingual \"malay_data\" variable\n",
        "malay_cs_text = \"\"\n",
        "for sentence in malay_data:\n",
        "    resulting_model = model.analyze(sentence) # Does the POS tagging of sentence and stores that information into array of dictionary which consists of words and their tags with the confidence\n",
        "    # \"codeswitch_malay_sentence\" stores CS malay sentence form of \"sentence\" variable\n",
        "    codeswitch_malay_sentence = \"\"\n",
        "    length = len(resulting_model)\n",
        "    index = 0\n",
        "    while index < length:\n",
        "        txt = list(resulting_model[index][\"text\"])\n",
        "        '''\n",
        "        We are changing only Pronouns, Nouns, Proper Nouns, Determiner, Symbols\n",
        "        '''\n",
        "        if resulting_model[index][\"type\"] == \"PRON\" or resulting_model[index][\"type\"] == \"NOUN\" or resulting_model[index][\"type\"] == \"PROPN\" or resulting_model[index][\"type\"] == \"DET\" or resulting_model[index][\"type\"] == \"SYM\":\n",
        "            phrase = \"\"\n",
        "            # Once we found a word which we need to translate we are checking more consecutive words and if these are Pronouns, Nouns, Proper Nouns, Determiner, Symbols\n",
        "            # Then we concatenate those to \"phrase\" variable and after that once we no longer have more consecutive word we translate the phrase to English and add those to \"codeswitch_malay_sentence\" variable\n",
        "            while index < length and (resulting_model[index][\"type\"] == \"PRON\" or resulting_model[index][\"type\"] == \"NOUN\" or resulting_model[index][\"type\"] == \"PROPN\" or resulting_model[index][\"type\"] == \"DET\" or resulting_model[index][\"type\"] == \"SYM\"):\n",
        "                text = list(resulting_model[index][\"text\"])\n",
        "                for word in text:\n",
        "                    phrase += str(word) + ' '\n",
        "                index += 1\n",
        "            codeswitch_malay_sentence += translator_malay.greedy_decoder([phrase])[0] + ' '\n",
        "        else:\n",
        "            for word in txt:\n",
        "                codeswitch_malay_sentence += word + ' '\n",
        "            index += 1\n",
        "\n",
        "    malay_cs_text += codeswitch_malay_sentence + '\\n'"
      ]
    },
    {
      "cell_type": "code",
      "execution_count": null,
      "metadata": {
        "id": "y631v-kXod09"
      },
      "outputs": [],
      "source": [
        "# Saves the \"malay_cs_text\" onto a \"Malay_CS_Data.txt\" file\n",
        "f1 = open(\"Malay_CS_Data.txt\",\"w+\")\n",
        "f1.write(malay_cs_text)\n",
        "f1.close()"
      ]
    },
    {
      "cell_type": "markdown",
      "metadata": {
        "id": "u4ceR1uNokkR"
      },
      "source": [
        "###Monolinugal English sentence to Code Switched English-Malay sentence\n",
        "\n",
        "\n",
        "\n",
        "\n",
        "---\n",
        "\n"
      ]
    },
    {
      "cell_type": "code",
      "execution_count": null,
      "metadata": {
        "id": "F7zya2Ysop8D"
      },
      "outputs": [],
      "source": [
        "# \"english_cs_text\" stores code switched data made from Monolingual \"english_data\" variable\n",
        "english_cs_text = \"\"\n",
        "for sentence in english_data:\n",
        "    tokenized_sentence = word_tokenize(sentence)\n",
        "    resulting_model = nltk.pos_tag(tokenized_sentence)\n",
        "    codeswitch_english_sentence = \"\"\n",
        "    for index in range(len(resulting_model)):\n",
        "        txt = resulting_model[index][0]\n",
        "        pos = resulting_model[index][1]\n",
        "        # Once we found a word is Pronouns, Nouns, Proper Nouns, Determiner, Pre-Determiner and then convert that to Malay\n",
        "        if pos == \"PRP\" or pos ==\"PRP$\" or pos ==\"NN\" or pos ==\"NNS\" or pos ==\"NNPS\" or pos ==\"NNP\" or pos == \"PDT\" or pos ==\"DT\":\n",
        "            codeswitch_english_sentence +=  translator_english.greedy_decoder([txt])[0] + ' '\n",
        "        else:\n",
        "            codeswitch_english_sentence += txt + ' '\n",
        "    english_cs_text += codeswitch_english_sentence"
      ]
    },
    {
      "cell_type": "code",
      "execution_count": null,
      "metadata": {
        "id": "h4BoW09potvl"
      },
      "outputs": [],
      "source": [
        "# Saves the \"english_cs_text\" onto a \"English_CS_Data.txt\" file\n",
        "f2 = open(\"English_CS_Data.txt\",\"w+\")\n",
        "f2.write(english_cs_text)\n",
        "f2.close()"
      ]
    }
  ],
  "metadata": {
    "colab": {
      "name": "CS_Translator.ipynb",
      "provenance": []
    },
    "kernelspec": {
      "display_name": "Python 3.8.5 ('base')",
      "language": "python",
      "name": "python3"
    },
    "language_info": {
      "name": "python",
      "version": "3.8.5"
    },
    "vscode": {
      "interpreter": {
        "hash": "75e1efb84c03986af0e8f42485fed0cce10a00d55878541b86dc1dc64e57af84"
      }
    }
  },
  "nbformat": 4,
  "nbformat_minor": 0
}
